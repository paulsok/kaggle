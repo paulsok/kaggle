{
  "nbformat": 4,
  "nbformat_minor": 0,
  "metadata": {
    "colab": {
      "name": "online_retail_data_set.ipynb",
      "provenance": [],
      "collapsed_sections": []
    },
    "kernelspec": {
      "name": "python3",
      "display_name": "Python 3"
    },
    "language_info": {
      "name": "python"
    }
  },
  "cells": [
    {
      "cell_type": "code",
      "metadata": {
        "id": "h4Pd7x_X38Nb"
      },
      "source": [
        "import pandas as pd\n",
        "import datetime\n",
        "import math\n",
        "import numpy as np\n",
        "import matplotlib.pyplot as plt\n",
        "import matplotlib.mlab as mlab\n",
        "import plotly as py\n",
        "import plotly.graph_objs as go\n",
        "from mpl_toolkits.mplot3d import Axes3D\n",
        "from sklearn import preprocessing\n",
        "from sklearn.cluster import KMeans\n",
        "from sklearn.metrics import silhouette_samples, silhouette_score\n",
        "%matplotlib inline"
      ],
      "execution_count": 1,
      "outputs": []
    },
    {
      "cell_type": "markdown",
      "metadata": {
        "id": "AJGCSjHL4mRN"
      },
      "source": [
        "**EDA**"
      ]
    },
    {
      "cell_type": "code",
      "metadata": {
        "id": "jIYzbYiH4KKz"
      },
      "source": [
        "cs_df = pd.read_excel(io=r'/content/Online Retail.xlsx')"
      ],
      "execution_count": 2,
      "outputs": []
    },
    {
      "cell_type": "code",
      "metadata": {
        "colab": {
          "base_uri": "https://localhost:8080/"
        },
        "id": "VxS3d2LP9GAN",
        "outputId": "6df93d54-3c5c-45f4-c1ed-08d7e429e362"
      },
      "source": [
        "cs_df.shape"
      ],
      "execution_count": 3,
      "outputs": [
        {
          "output_type": "execute_result",
          "data": {
            "text/plain": [
              "(541909, 8)"
            ]
          },
          "metadata": {
            "tags": []
          },
          "execution_count": 3
        }
      ]
    },
    {
      "cell_type": "code",
      "metadata": {
        "colab": {
          "base_uri": "https://localhost:8080/",
          "height": 204
        },
        "id": "4oVfyzV24lVV",
        "outputId": "ba31f165-adb4-4f0a-8037-6b3f63ac68ae"
      },
      "source": [
        "cs_df.head()"
      ],
      "execution_count": 4,
      "outputs": [
        {
          "output_type": "execute_result",
          "data": {
            "text/html": [
              "<div>\n",
              "<style scoped>\n",
              "    .dataframe tbody tr th:only-of-type {\n",
              "        vertical-align: middle;\n",
              "    }\n",
              "\n",
              "    .dataframe tbody tr th {\n",
              "        vertical-align: top;\n",
              "    }\n",
              "\n",
              "    .dataframe thead th {\n",
              "        text-align: right;\n",
              "    }\n",
              "</style>\n",
              "<table border=\"1\" class=\"dataframe\">\n",
              "  <thead>\n",
              "    <tr style=\"text-align: right;\">\n",
              "      <th></th>\n",
              "      <th>InvoiceNo</th>\n",
              "      <th>StockCode</th>\n",
              "      <th>Description</th>\n",
              "      <th>Quantity</th>\n",
              "      <th>InvoiceDate</th>\n",
              "      <th>UnitPrice</th>\n",
              "      <th>CustomerID</th>\n",
              "      <th>Country</th>\n",
              "    </tr>\n",
              "  </thead>\n",
              "  <tbody>\n",
              "    <tr>\n",
              "      <th>0</th>\n",
              "      <td>536365</td>\n",
              "      <td>85123A</td>\n",
              "      <td>WHITE HANGING HEART T-LIGHT HOLDER</td>\n",
              "      <td>6</td>\n",
              "      <td>2010-12-01 08:26:00</td>\n",
              "      <td>2.55</td>\n",
              "      <td>17850.0</td>\n",
              "      <td>United Kingdom</td>\n",
              "    </tr>\n",
              "    <tr>\n",
              "      <th>1</th>\n",
              "      <td>536365</td>\n",
              "      <td>71053</td>\n",
              "      <td>WHITE METAL LANTERN</td>\n",
              "      <td>6</td>\n",
              "      <td>2010-12-01 08:26:00</td>\n",
              "      <td>3.39</td>\n",
              "      <td>17850.0</td>\n",
              "      <td>United Kingdom</td>\n",
              "    </tr>\n",
              "    <tr>\n",
              "      <th>2</th>\n",
              "      <td>536365</td>\n",
              "      <td>84406B</td>\n",
              "      <td>CREAM CUPID HEARTS COAT HANGER</td>\n",
              "      <td>8</td>\n",
              "      <td>2010-12-01 08:26:00</td>\n",
              "      <td>2.75</td>\n",
              "      <td>17850.0</td>\n",
              "      <td>United Kingdom</td>\n",
              "    </tr>\n",
              "    <tr>\n",
              "      <th>3</th>\n",
              "      <td>536365</td>\n",
              "      <td>84029G</td>\n",
              "      <td>KNITTED UNION FLAG HOT WATER BOTTLE</td>\n",
              "      <td>6</td>\n",
              "      <td>2010-12-01 08:26:00</td>\n",
              "      <td>3.39</td>\n",
              "      <td>17850.0</td>\n",
              "      <td>United Kingdom</td>\n",
              "    </tr>\n",
              "    <tr>\n",
              "      <th>4</th>\n",
              "      <td>536365</td>\n",
              "      <td>84029E</td>\n",
              "      <td>RED WOOLLY HOTTIE WHITE HEART.</td>\n",
              "      <td>6</td>\n",
              "      <td>2010-12-01 08:26:00</td>\n",
              "      <td>3.39</td>\n",
              "      <td>17850.0</td>\n",
              "      <td>United Kingdom</td>\n",
              "    </tr>\n",
              "  </tbody>\n",
              "</table>\n",
              "</div>"
            ],
            "text/plain": [
              "  InvoiceNo StockCode  ... CustomerID         Country\n",
              "0    536365    85123A  ...    17850.0  United Kingdom\n",
              "1    536365     71053  ...    17850.0  United Kingdom\n",
              "2    536365    84406B  ...    17850.0  United Kingdom\n",
              "3    536365    84029G  ...    17850.0  United Kingdom\n",
              "4    536365    84029E  ...    17850.0  United Kingdom\n",
              "\n",
              "[5 rows x 8 columns]"
            ]
          },
          "metadata": {
            "tags": []
          },
          "execution_count": 4
        }
      ]
    },
    {
      "cell_type": "code",
      "metadata": {
        "colab": {
          "base_uri": "https://localhost:8080/"
        },
        "id": "tmN8qvTT4vzU",
        "outputId": "6864d460-41e4-4bb0-edec-b4c299d53edb"
      },
      "source": [
        "cs_df.info()"
      ],
      "execution_count": 5,
      "outputs": [
        {
          "output_type": "stream",
          "text": [
            "<class 'pandas.core.frame.DataFrame'>\n",
            "RangeIndex: 541909 entries, 0 to 541908\n",
            "Data columns (total 8 columns):\n",
            " #   Column       Non-Null Count   Dtype         \n",
            "---  ------       --------------   -----         \n",
            " 0   InvoiceNo    541909 non-null  object        \n",
            " 1   StockCode    541909 non-null  object        \n",
            " 2   Description  540455 non-null  object        \n",
            " 3   Quantity     541909 non-null  int64         \n",
            " 4   InvoiceDate  541909 non-null  datetime64[ns]\n",
            " 5   UnitPrice    541909 non-null  float64       \n",
            " 6   CustomerID   406829 non-null  float64       \n",
            " 7   Country      541909 non-null  object        \n",
            "dtypes: datetime64[ns](1), float64(2), int64(1), object(4)\n",
            "memory usage: 33.1+ MB\n"
          ],
          "name": "stdout"
        }
      ]
    },
    {
      "cell_type": "code",
      "metadata": {
        "colab": {
          "base_uri": "https://localhost:8080/"
        },
        "id": "Q6WaIpAU4zyk",
        "outputId": "121759aa-acec-4fde-b44a-1a56aa75215b"
      },
      "source": [
        "# how many different custromers?\n",
        "cs_df.CustomerID.unique().shape"
      ],
      "execution_count": 6,
      "outputs": [
        {
          "output_type": "execute_result",
          "data": {
            "text/plain": [
              "(4373,)"
            ]
          },
          "metadata": {
            "tags": []
          },
          "execution_count": 6
        }
      ]
    },
    {
      "cell_type": "code",
      "metadata": {
        "colab": {
          "base_uri": "https://localhost:8080/"
        },
        "id": "Eooz31-99L0D",
        "outputId": "e3ba9672-c941-4d83-ffb4-92dca4b90ba8"
      },
      "source": [
        "# how many unique items?\n",
        "cs_df.StockCode.unique().shape"
      ],
      "execution_count": 7,
      "outputs": [
        {
          "output_type": "execute_result",
          "data": {
            "text/plain": [
              "(4070,)"
            ]
          },
          "metadata": {
            "tags": []
          },
          "execution_count": 7
        }
      ]
    },
    {
      "cell_type": "code",
      "metadata": {
        "colab": {
          "base_uri": "https://localhost:8080/"
        },
        "id": "J6gHCF8991RV",
        "outputId": "5ca93f3c-d6c9-424d-b4d1-ae212a96ccef"
      },
      "source": [
        "cs_df.Description.unique().shape"
      ],
      "execution_count": 8,
      "outputs": [
        {
          "output_type": "execute_result",
          "data": {
            "text/plain": [
              "(4224,)"
            ]
          },
          "metadata": {
            "tags": []
          },
          "execution_count": 8
        }
      ]
    },
    {
      "cell_type": "code",
      "metadata": {
        "colab": {
          "base_uri": "https://localhost:8080/",
          "height": 204
        },
        "id": "MsjOy7L-93r0",
        "outputId": "65b1615e-15a8-415b-ac55-55e39a8a3e9c"
      },
      "source": [
        "# interfering description for items?\n",
        "cat_des_df = cs_df.groupby([\"StockCode\",\"Description\"]).count().reset_index()\n",
        "cat_des_df.StockCode.value_counts()[cat_des_df.StockCode.value_counts() > 1].reset_index().head()"
      ],
      "execution_count": 9,
      "outputs": [
        {
          "output_type": "execute_result",
          "data": {
            "text/html": [
              "<div>\n",
              "<style scoped>\n",
              "    .dataframe tbody tr th:only-of-type {\n",
              "        vertical-align: middle;\n",
              "    }\n",
              "\n",
              "    .dataframe tbody tr th {\n",
              "        vertical-align: top;\n",
              "    }\n",
              "\n",
              "    .dataframe thead th {\n",
              "        text-align: right;\n",
              "    }\n",
              "</style>\n",
              "<table border=\"1\" class=\"dataframe\">\n",
              "  <thead>\n",
              "    <tr style=\"text-align: right;\">\n",
              "      <th></th>\n",
              "      <th>index</th>\n",
              "      <th>StockCode</th>\n",
              "    </tr>\n",
              "  </thead>\n",
              "  <tbody>\n",
              "    <tr>\n",
              "      <th>0</th>\n",
              "      <td>20713</td>\n",
              "      <td>8</td>\n",
              "    </tr>\n",
              "    <tr>\n",
              "      <th>1</th>\n",
              "      <td>23084</td>\n",
              "      <td>7</td>\n",
              "    </tr>\n",
              "    <tr>\n",
              "      <th>2</th>\n",
              "      <td>21830</td>\n",
              "      <td>6</td>\n",
              "    </tr>\n",
              "    <tr>\n",
              "      <th>3</th>\n",
              "      <td>85175</td>\n",
              "      <td>6</td>\n",
              "    </tr>\n",
              "    <tr>\n",
              "      <th>4</th>\n",
              "      <td>23343</td>\n",
              "      <td>5</td>\n",
              "    </tr>\n",
              "  </tbody>\n",
              "</table>\n",
              "</div>"
            ],
            "text/plain": [
              "   index  StockCode\n",
              "0  20713          8\n",
              "1  23084          7\n",
              "2  21830          6\n",
              "3  85175          6\n",
              "4  23343          5"
            ]
          },
          "metadata": {
            "tags": []
          },
          "execution_count": 9
        }
      ]
    },
    {
      "cell_type": "markdown",
      "metadata": {
        "id": "jSuQoCR6_A79"
      },
      "source": [
        ""
      ]
    },
    {
      "cell_type": "code",
      "metadata": {
        "colab": {
          "base_uri": "https://localhost:8080/"
        },
        "id": "DZ9hmtS8-X-w",
        "outputId": "877fc55a-f5bd-4846-b806-cab3486aa9e6"
      },
      "source": [
        "cs_df[cs_df['StockCode'] == cat_des_df.StockCode.value_counts()[cat_des_df.StockCode.value_counts()>1]\n",
        "                            .reset_index()['index'][6]]['Description'].unique()"
      ],
      "execution_count": 10,
      "outputs": [
        {
          "output_type": "execute_result",
          "data": {
            "text/plain": [
              "array(['SET/3 ROSE CANDLE IN JEWELLED BOX', 'wet pallet', 'damages',\n",
              "       '???missing', 'AMAZON'], dtype=object)"
            ]
          },
          "metadata": {
            "tags": []
          },
          "execution_count": 10
        }
      ]
    },
    {
      "cell_type": "code",
      "metadata": {
        "colab": {
          "base_uri": "https://localhost:8080/"
        },
        "id": "DKiVwPtN-ha2",
        "outputId": "a448b2c4-e00c-4f39-bd20-677ebdc3a023"
      },
      "source": [
        "cs_df.Quantity.describe()"
      ],
      "execution_count": 11,
      "outputs": [
        {
          "output_type": "execute_result",
          "data": {
            "text/plain": [
              "count    541909.000000\n",
              "mean          9.552250\n",
              "std         218.081158\n",
              "min      -80995.000000\n",
              "25%           1.000000\n",
              "50%           3.000000\n",
              "75%          10.000000\n",
              "max       80995.000000\n",
              "Name: Quantity, dtype: float64"
            ]
          },
          "metadata": {
            "tags": []
          },
          "execution_count": 11
        }
      ]
    },
    {
      "cell_type": "code",
      "metadata": {
        "colab": {
          "base_uri": "https://localhost:8080/"
        },
        "id": "V1Cvs6ji-w-c",
        "outputId": "465a9ab6-527d-4201-a2a3-2705508a381f"
      },
      "source": [
        "cs_df.UnitPrice.describe()"
      ],
      "execution_count": 12,
      "outputs": [
        {
          "output_type": "execute_result",
          "data": {
            "text/plain": [
              "count    541909.000000\n",
              "mean          4.611114\n",
              "std          96.759853\n",
              "min      -11062.060000\n",
              "25%           1.250000\n",
              "50%           2.080000\n",
              "75%           4.130000\n",
              "max       38970.000000\n",
              "Name: UnitPrice, dtype: float64"
            ]
          },
          "metadata": {
            "tags": []
          },
          "execution_count": 12
        }
      ]
    },
    {
      "cell_type": "markdown",
      "metadata": {
        "id": "7iwT6eyEF_L0"
      },
      "source": [
        "**Data cleaning**"
      ]
    },
    {
      "cell_type": "code",
      "metadata": {
        "id": "_GZPmWtX-1Y3",
        "colab": {
          "base_uri": "https://localhost:8080/",
          "height": 204
        },
        "outputId": "a0c9a8ff-9cb7-4e73-a2ae-baab6dc160c3"
      },
      "source": [
        "# for UK custromers only\n",
        "cs_df = cs_df[cs_df.Country == 'United Kingdom']\n",
        "# Separate attribute for total amount\n",
        "cs_df['amount'] = cs_df.Quantity * cs_df.UnitPrice\n",
        "# Remove negative or return transactions\n",
        "cs_df = cs_df[~(cs_df.amount<0)]\n",
        "cs_df.head()"
      ],
      "execution_count": 13,
      "outputs": [
        {
          "output_type": "execute_result",
          "data": {
            "text/html": [
              "<div>\n",
              "<style scoped>\n",
              "    .dataframe tbody tr th:only-of-type {\n",
              "        vertical-align: middle;\n",
              "    }\n",
              "\n",
              "    .dataframe tbody tr th {\n",
              "        vertical-align: top;\n",
              "    }\n",
              "\n",
              "    .dataframe thead th {\n",
              "        text-align: right;\n",
              "    }\n",
              "</style>\n",
              "<table border=\"1\" class=\"dataframe\">\n",
              "  <thead>\n",
              "    <tr style=\"text-align: right;\">\n",
              "      <th></th>\n",
              "      <th>InvoiceNo</th>\n",
              "      <th>StockCode</th>\n",
              "      <th>Description</th>\n",
              "      <th>Quantity</th>\n",
              "      <th>InvoiceDate</th>\n",
              "      <th>UnitPrice</th>\n",
              "      <th>CustomerID</th>\n",
              "      <th>Country</th>\n",
              "      <th>amount</th>\n",
              "    </tr>\n",
              "  </thead>\n",
              "  <tbody>\n",
              "    <tr>\n",
              "      <th>0</th>\n",
              "      <td>536365</td>\n",
              "      <td>85123A</td>\n",
              "      <td>WHITE HANGING HEART T-LIGHT HOLDER</td>\n",
              "      <td>6</td>\n",
              "      <td>2010-12-01 08:26:00</td>\n",
              "      <td>2.55</td>\n",
              "      <td>17850.0</td>\n",
              "      <td>United Kingdom</td>\n",
              "      <td>15.30</td>\n",
              "    </tr>\n",
              "    <tr>\n",
              "      <th>1</th>\n",
              "      <td>536365</td>\n",
              "      <td>71053</td>\n",
              "      <td>WHITE METAL LANTERN</td>\n",
              "      <td>6</td>\n",
              "      <td>2010-12-01 08:26:00</td>\n",
              "      <td>3.39</td>\n",
              "      <td>17850.0</td>\n",
              "      <td>United Kingdom</td>\n",
              "      <td>20.34</td>\n",
              "    </tr>\n",
              "    <tr>\n",
              "      <th>2</th>\n",
              "      <td>536365</td>\n",
              "      <td>84406B</td>\n",
              "      <td>CREAM CUPID HEARTS COAT HANGER</td>\n",
              "      <td>8</td>\n",
              "      <td>2010-12-01 08:26:00</td>\n",
              "      <td>2.75</td>\n",
              "      <td>17850.0</td>\n",
              "      <td>United Kingdom</td>\n",
              "      <td>22.00</td>\n",
              "    </tr>\n",
              "    <tr>\n",
              "      <th>3</th>\n",
              "      <td>536365</td>\n",
              "      <td>84029G</td>\n",
              "      <td>KNITTED UNION FLAG HOT WATER BOTTLE</td>\n",
              "      <td>6</td>\n",
              "      <td>2010-12-01 08:26:00</td>\n",
              "      <td>3.39</td>\n",
              "      <td>17850.0</td>\n",
              "      <td>United Kingdom</td>\n",
              "      <td>20.34</td>\n",
              "    </tr>\n",
              "    <tr>\n",
              "      <th>4</th>\n",
              "      <td>536365</td>\n",
              "      <td>84029E</td>\n",
              "      <td>RED WOOLLY HOTTIE WHITE HEART.</td>\n",
              "      <td>6</td>\n",
              "      <td>2010-12-01 08:26:00</td>\n",
              "      <td>3.39</td>\n",
              "      <td>17850.0</td>\n",
              "      <td>United Kingdom</td>\n",
              "      <td>20.34</td>\n",
              "    </tr>\n",
              "  </tbody>\n",
              "</table>\n",
              "</div>"
            ],
            "text/plain": [
              "  InvoiceNo StockCode  ...         Country  amount\n",
              "0    536365    85123A  ...  United Kingdom   15.30\n",
              "1    536365     71053  ...  United Kingdom   20.34\n",
              "2    536365    84406B  ...  United Kingdom   22.00\n",
              "3    536365    84029G  ...  United Kingdom   20.34\n",
              "4    536365    84029E  ...  United Kingdom   20.34\n",
              "\n",
              "[5 rows x 9 columns]"
            ]
          },
          "metadata": {
            "tags": []
          },
          "execution_count": 13
        }
      ]
    },
    {
      "cell_type": "code",
      "metadata": {
        "colab": {
          "base_uri": "https://localhost:8080/"
        },
        "id": "2F7iDorYGv8U",
        "outputId": "f99c2b56-8a4c-4625-b36b-92fdcc3f59de"
      },
      "source": [
        "cs_df = cs_df[~(cs_df.CustomerID.isnull())]\n",
        "cs_df.shape"
      ],
      "execution_count": 14,
      "outputs": [
        {
          "output_type": "execute_result",
          "data": {
            "text/plain": [
              "(354345, 9)"
            ]
          },
          "metadata": {
            "tags": []
          },
          "execution_count": 14
        }
      ]
    },
    {
      "cell_type": "code",
      "metadata": {
        "colab": {
          "base_uri": "https://localhost:8080/"
        },
        "id": "xU8c1wgWG3se",
        "outputId": "79d04caa-cf89-4065-e0b7-59a7576619b5"
      },
      "source": [
        "refrence_date = cs_df.InvoiceDate.max()\n",
        "refrence_date = refrence_date + datetime.timedelta(days = 1)\n",
        "refrence_date"
      ],
      "execution_count": 15,
      "outputs": [
        {
          "output_type": "execute_result",
          "data": {
            "text/plain": [
              "Timestamp('2011-12-10 12:49:00')"
            ]
          },
          "metadata": {
            "tags": []
          },
          "execution_count": 15
        }
      ]
    },
    {
      "cell_type": "code",
      "metadata": {
        "id": "4uvuhpbXHDTg"
      },
      "source": [
        "# recency value\n",
        "cs_df['days_since_last_purchase'] = refrence_date - cs_df.InvoiceDate\n",
        "cs_df['days_since_last_purchase_num'] = cs_df['days_since_last_purchase'].astype('timedelta64[D]')"
      ],
      "execution_count": 16,
      "outputs": []
    },
    {
      "cell_type": "code",
      "metadata": {
        "colab": {
          "base_uri": "https://localhost:8080/",
          "height": 357
        },
        "id": "l4giXyoRHimy",
        "outputId": "8898affd-0594-40a6-c764-3f6de1dbcf40"
      },
      "source": [
        "cs_df.head()"
      ],
      "execution_count": 17,
      "outputs": [
        {
          "output_type": "execute_result",
          "data": {
            "text/html": [
              "<div>\n",
              "<style scoped>\n",
              "    .dataframe tbody tr th:only-of-type {\n",
              "        vertical-align: middle;\n",
              "    }\n",
              "\n",
              "    .dataframe tbody tr th {\n",
              "        vertical-align: top;\n",
              "    }\n",
              "\n",
              "    .dataframe thead th {\n",
              "        text-align: right;\n",
              "    }\n",
              "</style>\n",
              "<table border=\"1\" class=\"dataframe\">\n",
              "  <thead>\n",
              "    <tr style=\"text-align: right;\">\n",
              "      <th></th>\n",
              "      <th>InvoiceNo</th>\n",
              "      <th>StockCode</th>\n",
              "      <th>Description</th>\n",
              "      <th>Quantity</th>\n",
              "      <th>InvoiceDate</th>\n",
              "      <th>UnitPrice</th>\n",
              "      <th>CustomerID</th>\n",
              "      <th>Country</th>\n",
              "      <th>amount</th>\n",
              "      <th>days_since_last_purchase</th>\n",
              "      <th>days_since_last_purchase_num</th>\n",
              "    </tr>\n",
              "  </thead>\n",
              "  <tbody>\n",
              "    <tr>\n",
              "      <th>0</th>\n",
              "      <td>536365</td>\n",
              "      <td>85123A</td>\n",
              "      <td>WHITE HANGING HEART T-LIGHT HOLDER</td>\n",
              "      <td>6</td>\n",
              "      <td>2010-12-01 08:26:00</td>\n",
              "      <td>2.55</td>\n",
              "      <td>17850.0</td>\n",
              "      <td>United Kingdom</td>\n",
              "      <td>15.30</td>\n",
              "      <td>374 days 04:23:00</td>\n",
              "      <td>374.0</td>\n",
              "    </tr>\n",
              "    <tr>\n",
              "      <th>1</th>\n",
              "      <td>536365</td>\n",
              "      <td>71053</td>\n",
              "      <td>WHITE METAL LANTERN</td>\n",
              "      <td>6</td>\n",
              "      <td>2010-12-01 08:26:00</td>\n",
              "      <td>3.39</td>\n",
              "      <td>17850.0</td>\n",
              "      <td>United Kingdom</td>\n",
              "      <td>20.34</td>\n",
              "      <td>374 days 04:23:00</td>\n",
              "      <td>374.0</td>\n",
              "    </tr>\n",
              "    <tr>\n",
              "      <th>2</th>\n",
              "      <td>536365</td>\n",
              "      <td>84406B</td>\n",
              "      <td>CREAM CUPID HEARTS COAT HANGER</td>\n",
              "      <td>8</td>\n",
              "      <td>2010-12-01 08:26:00</td>\n",
              "      <td>2.75</td>\n",
              "      <td>17850.0</td>\n",
              "      <td>United Kingdom</td>\n",
              "      <td>22.00</td>\n",
              "      <td>374 days 04:23:00</td>\n",
              "      <td>374.0</td>\n",
              "    </tr>\n",
              "    <tr>\n",
              "      <th>3</th>\n",
              "      <td>536365</td>\n",
              "      <td>84029G</td>\n",
              "      <td>KNITTED UNION FLAG HOT WATER BOTTLE</td>\n",
              "      <td>6</td>\n",
              "      <td>2010-12-01 08:26:00</td>\n",
              "      <td>3.39</td>\n",
              "      <td>17850.0</td>\n",
              "      <td>United Kingdom</td>\n",
              "      <td>20.34</td>\n",
              "      <td>374 days 04:23:00</td>\n",
              "      <td>374.0</td>\n",
              "    </tr>\n",
              "    <tr>\n",
              "      <th>4</th>\n",
              "      <td>536365</td>\n",
              "      <td>84029E</td>\n",
              "      <td>RED WOOLLY HOTTIE WHITE HEART.</td>\n",
              "      <td>6</td>\n",
              "      <td>2010-12-01 08:26:00</td>\n",
              "      <td>3.39</td>\n",
              "      <td>17850.0</td>\n",
              "      <td>United Kingdom</td>\n",
              "      <td>20.34</td>\n",
              "      <td>374 days 04:23:00</td>\n",
              "      <td>374.0</td>\n",
              "    </tr>\n",
              "  </tbody>\n",
              "</table>\n",
              "</div>"
            ],
            "text/plain": [
              "  InvoiceNo StockCode  ... days_since_last_purchase  days_since_last_purchase_num\n",
              "0    536365    85123A  ...        374 days 04:23:00                         374.0\n",
              "1    536365     71053  ...        374 days 04:23:00                         374.0\n",
              "2    536365    84406B  ...        374 days 04:23:00                         374.0\n",
              "3    536365    84029G  ...        374 days 04:23:00                         374.0\n",
              "4    536365    84029E  ...        374 days 04:23:00                         374.0\n",
              "\n",
              "[5 rows x 11 columns]"
            ]
          },
          "metadata": {
            "tags": []
          },
          "execution_count": 17
        }
      ]
    },
    {
      "cell_type": "code",
      "metadata": {
        "id": "cNPdgSONHkv7"
      },
      "source": [
        "customer_history_df = cs_df.groupby([\"CustomerID\"])[['days_since_last_purchase_num']].min().reset_index()"
      ],
      "execution_count": 18,
      "outputs": []
    },
    {
      "cell_type": "code",
      "metadata": {
        "id": "kXDlEiWLLMBX"
      },
      "source": [
        "customer_history_df.rename(columns={'days_since_last_purchase_num':'recency'}, inplace=True)"
      ],
      "execution_count": 19,
      "outputs": []
    },
    {
      "cell_type": "code",
      "metadata": {
        "colab": {
          "base_uri": "https://localhost:8080/",
          "height": 204
        },
        "id": "1sBD-RZ0YLZa",
        "outputId": "fd698395-9253-4beb-975d-f5e53da1ac55"
      },
      "source": [
        "customer_history_df.head()"
      ],
      "execution_count": 20,
      "outputs": [
        {
          "output_type": "execute_result",
          "data": {
            "text/html": [
              "<div>\n",
              "<style scoped>\n",
              "    .dataframe tbody tr th:only-of-type {\n",
              "        vertical-align: middle;\n",
              "    }\n",
              "\n",
              "    .dataframe tbody tr th {\n",
              "        vertical-align: top;\n",
              "    }\n",
              "\n",
              "    .dataframe thead th {\n",
              "        text-align: right;\n",
              "    }\n",
              "</style>\n",
              "<table border=\"1\" class=\"dataframe\">\n",
              "  <thead>\n",
              "    <tr style=\"text-align: right;\">\n",
              "      <th></th>\n",
              "      <th>CustomerID</th>\n",
              "      <th>recency</th>\n",
              "    </tr>\n",
              "  </thead>\n",
              "  <tbody>\n",
              "    <tr>\n",
              "      <th>0</th>\n",
              "      <td>12346.0</td>\n",
              "      <td>326.0</td>\n",
              "    </tr>\n",
              "    <tr>\n",
              "      <th>1</th>\n",
              "      <td>12747.0</td>\n",
              "      <td>2.0</td>\n",
              "    </tr>\n",
              "    <tr>\n",
              "      <th>2</th>\n",
              "      <td>12748.0</td>\n",
              "      <td>1.0</td>\n",
              "    </tr>\n",
              "    <tr>\n",
              "      <th>3</th>\n",
              "      <td>12749.0</td>\n",
              "      <td>4.0</td>\n",
              "    </tr>\n",
              "    <tr>\n",
              "      <th>4</th>\n",
              "      <td>12820.0</td>\n",
              "      <td>3.0</td>\n",
              "    </tr>\n",
              "  </tbody>\n",
              "</table>\n",
              "</div>"
            ],
            "text/plain": [
              "   CustomerID  recency\n",
              "0     12346.0    326.0\n",
              "1     12747.0      2.0\n",
              "2     12748.0      1.0\n",
              "3     12749.0      4.0\n",
              "4     12820.0      3.0"
            ]
          },
          "metadata": {
            "tags": []
          },
          "execution_count": 20
        }
      ]
    },
    {
      "cell_type": "code",
      "metadata": {
        "colab": {
          "base_uri": "https://localhost:8080/",
          "height": 406
        },
        "id": "TeXV0ZNPTMDr",
        "outputId": "a298be2e-599c-4ac5-c070-5ad6265a9802"
      },
      "source": [
        "# distribution of customer recency\n",
        "x = customer_history_df.recency\n",
        "mu = np.mean(customer_history_df.recency)\n",
        "sigma = math.sqrt(np.var(customer_history_df.recency))\n",
        "plt.figure(figsize=(9, 6))\n",
        "n, bins, patches = plt.hist(x, 1000, facecolor='green', alpha=0.75)\n",
        "plt.xlabel('Recency in days')\n",
        "plt.ylabel('Number of transactions')\n",
        "plt.title(r'$\\mathrm{Histogram\\ of\\ sales\\ recency}\\ $')\n",
        "plt.grid(True)"
      ],
      "execution_count": 21,
      "outputs": [
        {
          "output_type": "display_data",
          "data": {
            "image/png": "[encoded data removed]",
            "text/plain": [
              "<Figure size 648x432 with 1 Axes>"
            ]
          },
          "metadata": {
            "tags": [],
            "needs_background": "light"
          }
        }
      ]
    },
    {
      "cell_type": "code",
      "metadata": {
        "id": "EKD65ldjUFMm"
      },
      "source": [
        "# monetary value\n",
        "customer_monetary_val = cs_df[['CustomerID', 'amount']].groupby(\"CustomerID\").sum().reset_index()"
      ],
      "execution_count": 22,
      "outputs": []
    },
    {
      "cell_type": "code",
      "metadata": {
        "colab": {
          "base_uri": "https://localhost:8080/",
          "height": 204
        },
        "id": "oSU-_GS6Za_o",
        "outputId": "2a4b6adc-c9ff-494e-f2b5-4367ac9be72a"
      },
      "source": [
        "customer_monetary_val.head()"
      ],
      "execution_count": 23,
      "outputs": [
        {
          "output_type": "execute_result",
          "data": {
            "text/html": [
              "<div>\n",
              "<style scoped>\n",
              "    .dataframe tbody tr th:only-of-type {\n",
              "        vertical-align: middle;\n",
              "    }\n",
              "\n",
              "    .dataframe tbody tr th {\n",
              "        vertical-align: top;\n",
              "    }\n",
              "\n",
              "    .dataframe thead th {\n",
              "        text-align: right;\n",
              "    }\n",
              "</style>\n",
              "<table border=\"1\" class=\"dataframe\">\n",
              "  <thead>\n",
              "    <tr style=\"text-align: right;\">\n",
              "      <th></th>\n",
              "      <th>CustomerID</th>\n",
              "      <th>amount</th>\n",
              "    </tr>\n",
              "  </thead>\n",
              "  <tbody>\n",
              "    <tr>\n",
              "      <th>0</th>\n",
              "      <td>12346.0</td>\n",
              "      <td>77183.60</td>\n",
              "    </tr>\n",
              "    <tr>\n",
              "      <th>1</th>\n",
              "      <td>12747.0</td>\n",
              "      <td>4196.01</td>\n",
              "    </tr>\n",
              "    <tr>\n",
              "      <th>2</th>\n",
              "      <td>12748.0</td>\n",
              "      <td>33719.73</td>\n",
              "    </tr>\n",
              "    <tr>\n",
              "      <th>3</th>\n",
              "      <td>12749.0</td>\n",
              "      <td>4090.88</td>\n",
              "    </tr>\n",
              "    <tr>\n",
              "      <th>4</th>\n",
              "      <td>12820.0</td>\n",
              "      <td>942.34</td>\n",
              "    </tr>\n",
              "  </tbody>\n",
              "</table>\n",
              "</div>"
            ],
            "text/plain": [
              "   CustomerID    amount\n",
              "0     12346.0  77183.60\n",
              "1     12747.0   4196.01\n",
              "2     12748.0  33719.73\n",
              "3     12749.0   4090.88\n",
              "4     12820.0    942.34"
            ]
          },
          "metadata": {
            "tags": []
          },
          "execution_count": 23
        }
      ]
    },
    {
      "cell_type": "code",
      "metadata": {
        "id": "8L_DcABYXZq6"
      },
      "source": [
        "customer_history_df = customer_history_df.merge(customer_monetary_val, how='outer')\n",
        "customer_history_df.amount = customer_history_df.amount + 0.001"
      ],
      "execution_count": 24,
      "outputs": []
    },
    {
      "cell_type": "code",
      "metadata": {
        "colab": {
          "base_uri": "https://localhost:8080/",
          "height": 204
        },
        "id": "Z1MgV2UVYcTj",
        "outputId": "1c291385-a338-4296-ec49-c6c8bb246dd9"
      },
      "source": [
        "customer_history_df.head()"
      ],
      "execution_count": 25,
      "outputs": [
        {
          "output_type": "execute_result",
          "data": {
            "text/html": [
              "<div>\n",
              "<style scoped>\n",
              "    .dataframe tbody tr th:only-of-type {\n",
              "        vertical-align: middle;\n",
              "    }\n",
              "\n",
              "    .dataframe tbody tr th {\n",
              "        vertical-align: top;\n",
              "    }\n",
              "\n",
              "    .dataframe thead th {\n",
              "        text-align: right;\n",
              "    }\n",
              "</style>\n",
              "<table border=\"1\" class=\"dataframe\">\n",
              "  <thead>\n",
              "    <tr style=\"text-align: right;\">\n",
              "      <th></th>\n",
              "      <th>CustomerID</th>\n",
              "      <th>recency</th>\n",
              "      <th>amount</th>\n",
              "    </tr>\n",
              "  </thead>\n",
              "  <tbody>\n",
              "    <tr>\n",
              "      <th>0</th>\n",
              "      <td>12346.0</td>\n",
              "      <td>326.0</td>\n",
              "      <td>77183.601</td>\n",
              "    </tr>\n",
              "    <tr>\n",
              "      <th>1</th>\n",
              "      <td>12747.0</td>\n",
              "      <td>2.0</td>\n",
              "      <td>4196.011</td>\n",
              "    </tr>\n",
              "    <tr>\n",
              "      <th>2</th>\n",
              "      <td>12748.0</td>\n",
              "      <td>1.0</td>\n",
              "      <td>33719.731</td>\n",
              "    </tr>\n",
              "    <tr>\n",
              "      <th>3</th>\n",
              "      <td>12749.0</td>\n",
              "      <td>4.0</td>\n",
              "      <td>4090.881</td>\n",
              "    </tr>\n",
              "    <tr>\n",
              "      <th>4</th>\n",
              "      <td>12820.0</td>\n",
              "      <td>3.0</td>\n",
              "      <td>942.341</td>\n",
              "    </tr>\n",
              "  </tbody>\n",
              "</table>\n",
              "</div>"
            ],
            "text/plain": [
              "   CustomerID  recency     amount\n",
              "0     12346.0    326.0  77183.601\n",
              "1     12747.0      2.0   4196.011\n",
              "2     12748.0      1.0  33719.731\n",
              "3     12749.0      4.0   4090.881\n",
              "4     12820.0      3.0    942.341"
            ]
          },
          "metadata": {
            "tags": []
          },
          "execution_count": 25
        }
      ]
    },
    {
      "cell_type": "code",
      "metadata": {
        "id": "xzYn_3HQaQt9"
      },
      "source": [
        "# frequency\n",
        "customer_freq = cs_df[['CustomerID', 'amount']].groupby(\"CustomerID\").count().reset_index()\n",
        "customer_freq.rename(columns={'amount':'frequency'}, inplace=True)"
      ],
      "execution_count": 26,
      "outputs": []
    },
    {
      "cell_type": "code",
      "metadata": {
        "id": "MrLuF_MPa9px"
      },
      "source": [
        "customer_history_df = customer_history_df.merge(customer_freq, how='outer')"
      ],
      "execution_count": 27,
      "outputs": []
    },
    {
      "cell_type": "code",
      "metadata": {
        "colab": {
          "base_uri": "https://localhost:8080/",
          "height": 204
        },
        "id": "xSX6kWp_a_2i",
        "outputId": "511c9082-1c0f-4430-abcc-c34c541cf317"
      },
      "source": [
        "customer_history_df.head()"
      ],
      "execution_count": 28,
      "outputs": [
        {
          "output_type": "execute_result",
          "data": {
            "text/html": [
              "<div>\n",
              "<style scoped>\n",
              "    .dataframe tbody tr th:only-of-type {\n",
              "        vertical-align: middle;\n",
              "    }\n",
              "\n",
              "    .dataframe tbody tr th {\n",
              "        vertical-align: top;\n",
              "    }\n",
              "\n",
              "    .dataframe thead th {\n",
              "        text-align: right;\n",
              "    }\n",
              "</style>\n",
              "<table border=\"1\" class=\"dataframe\">\n",
              "  <thead>\n",
              "    <tr style=\"text-align: right;\">\n",
              "      <th></th>\n",
              "      <th>CustomerID</th>\n",
              "      <th>recency</th>\n",
              "      <th>amount</th>\n",
              "      <th>frequency</th>\n",
              "    </tr>\n",
              "  </thead>\n",
              "  <tbody>\n",
              "    <tr>\n",
              "      <th>0</th>\n",
              "      <td>12346.0</td>\n",
              "      <td>326.0</td>\n",
              "      <td>77183.601</td>\n",
              "      <td>1</td>\n",
              "    </tr>\n",
              "    <tr>\n",
              "      <th>1</th>\n",
              "      <td>12747.0</td>\n",
              "      <td>2.0</td>\n",
              "      <td>4196.011</td>\n",
              "      <td>103</td>\n",
              "    </tr>\n",
              "    <tr>\n",
              "      <th>2</th>\n",
              "      <td>12748.0</td>\n",
              "      <td>1.0</td>\n",
              "      <td>33719.731</td>\n",
              "      <td>4596</td>\n",
              "    </tr>\n",
              "    <tr>\n",
              "      <th>3</th>\n",
              "      <td>12749.0</td>\n",
              "      <td>4.0</td>\n",
              "      <td>4090.881</td>\n",
              "      <td>199</td>\n",
              "    </tr>\n",
              "    <tr>\n",
              "      <th>4</th>\n",
              "      <td>12820.0</td>\n",
              "      <td>3.0</td>\n",
              "      <td>942.341</td>\n",
              "      <td>59</td>\n",
              "    </tr>\n",
              "  </tbody>\n",
              "</table>\n",
              "</div>"
            ],
            "text/plain": [
              "   CustomerID  recency     amount  frequency\n",
              "0     12346.0    326.0  77183.601          1\n",
              "1     12747.0      2.0   4196.011        103\n",
              "2     12748.0      1.0  33719.731       4596\n",
              "3     12749.0      4.0   4090.881        199\n",
              "4     12820.0      3.0    942.341         59"
            ]
          },
          "metadata": {
            "tags": []
          },
          "execution_count": 28
        }
      ]
    },
    {
      "cell_type": "markdown",
      "metadata": {
        "id": "ousnjNFVbL4d"
      },
      "source": [
        "**Data preprocessing**"
      ]
    },
    {
      "cell_type": "code",
      "metadata": {
        "id": "GJHShBNTbBm-"
      },
      "source": [
        "# log scaling\n",
        "customer_history_df['recency_log'] = customer_history_df['recency'].apply(math.log)\n",
        "customer_history_df['frequency_log'] = customer_history_df['frequency'].apply(math.log)\n",
        "customer_history_df['amount_log'] = customer_history_df['amount'].apply(math.log)"
      ],
      "execution_count": 29,
      "outputs": []
    },
    {
      "cell_type": "code",
      "metadata": {
        "id": "2qephT9TdDfk"
      },
      "source": [
        "# standart scaling\n",
        "feature_vector = ['amount_log', 'recency_log','frequency_log']\n",
        "X = customer_history_df[feature_vector].values\n",
        "scaler = preprocessing.StandardScaler().fit(X)\n",
        "X_scaled = scaler.transform(X)"
      ],
      "execution_count": 30,
      "outputs": []
    },
    {
      "cell_type": "code",
      "metadata": {
        "colab": {
          "base_uri": "https://localhost:8080/",
          "height": 406
        },
        "id": "xrUWEZ7CdMms",
        "outputId": "635467d2-1b07-4994-a056-8b33a549da0e"
      },
      "source": [
        "x = customer_history_df.amount_log\n",
        "plt.figure(figsize=(9, 6))\n",
        "n, bins, patches = plt.hist(x, 1000, facecolor='blue', alpha=0.75)\n",
        "plt.xlabel('Log of Sales Amount')\n",
        "plt.ylabel('Probability')\n",
        "plt.title(r'$\\mathrm{Histogram\\ of\\ Log\\ transformed\\ Customer\\ Monetary\\ value}\\ $')\n",
        "plt.grid(True)"
      ],
      "execution_count": 31,
      "outputs": [
        {
          "output_type": "display_data",
          "data": {
            "image/png": "[encoded data removed]",
            "text/plain": [
              "<Figure size 648x432 with 1 Axes>"
            ]
          },
          "metadata": {
            "tags": [],
            "needs_background": "light"
          }
        }
      ]
    },
    {
      "cell_type": "code",
      "metadata": {
        "colab": {
          "base_uri": "https://localhost:8080/",
          "height": 575
        },
        "id": "HjmQUu-Qduwx",
        "outputId": "ec998e8c-d0c4-43da-a060-7dc6ec566258"
      },
      "source": [
        "# 3d scatter plot\n",
        "fig = plt.figure(figsize=(10, 10))\n",
        "ax = fig.add_subplot(111, projection='3d')\n",
        "xs =customer_history_df.recency_log\n",
        "ys = customer_history_df.frequency_log\n",
        "zs = customer_history_df.amount_log\n",
        "ax.scatter(xs, ys, zs, s=5, c='r')\n",
        "ax.set_xlabel('Recency')\n",
        "ax.set_ylabel('Frequency')\n",
        "ax.set_zlabel('Monetary');"
      ],
      "execution_count": 32,
      "outputs": [
        {
          "output_type": "display_data",
          "data": {
            "image/png": "[encoded data removed]",
            "text/plain": [
              "<Figure size 720x720 with 1 Axes>"
            ]
          },
          "metadata": {
            "tags": [],
            "needs_background": "light"
          }
        }
      ]
    },
    {
      "cell_type": "markdown",
      "metadata": {
        "id": "YVpR7p06eqS_"
      },
      "source": [
        "**Model**"
      ]
    },
    {
      "cell_type": "code",
      "metadata": {
        "colab": {
          "base_uri": "https://localhost:8080/"
        },
        "id": "AK_5r0m-eG-L",
        "outputId": "e0fa898d-868d-40f1-cf36-59cae92ddc40"
      },
      "source": [
        "# cluster analysis\n",
        "# https://scikit-learn.org/stable/auto_examples/cluster/plot_kmeans_silhouette_analysis.html\n",
        "cluster_centers = dict()\n",
        "\n",
        "for n_clusters in range(3, 6, 2):\n",
        "    clusterer = KMeans(n_clusters=n_clusters, random_state=10)\n",
        "    cluster_labels = clusterer.fit_predict(X)\n",
        "\n",
        "    silhouette_avg = silhouette_score(X, cluster_labels)\n",
        "    cluster_centers.update({n_clusters :{'cluster_center':clusterer.cluster_centers_,\n",
        "                                         'silhouette_score':silhouette_avg,\n",
        "                                         'labels':cluster_labels}})\n",
        "    print('=' * 50)\n",
        "    print(\"for {} number of clusters\".format(n_clusters))\n",
        "    cent_transformed = scaler.inverse_transform(cluster_centers[n_clusters]['cluster_center']) \n",
        "    print(pd.DataFrame(np.exp(cent_transformed), columns=feature_vector)) \n",
        "    print(\"Silhouette score for cluster {} is {}\".format(n_clusters, cluster_centers[n_clusters]['silhouette_score']))\n",
        "    print('=' * 50)"
      ],
      "execution_count": 33,
      "outputs": [
        {
          "output_type": "stream",
          "text": [
            "==================================================\n",
            "for 3 number of clusters\n",
            "     amount_log   recency_log  frequency_log\n",
            "0  3.464693e+06  10586.080988    8109.845433\n",
            "1  6.444703e+05  45466.559613     910.918045\n",
            "2  1.610609e+07    667.829810   35274.102846\n",
            "Silhouette score for cluster 3 is 0.3033291137814411\n",
            "==================================================\n",
            "==================================================\n",
            "for 5 number of clusters\n",
            "     amount_log   recency_log  frequency_log\n",
            "0  2.230630e+07    418.589110   47201.824919\n",
            "1  3.786077e+05  48769.141560     357.922021\n",
            "2  7.798905e+06   9181.429641   18733.558733\n",
            "3  1.474204e+06   2216.636204    3157.711108\n",
            "4  1.522477e+06  53409.948623    3241.337594\n",
            "Silhouette score for cluster 5 is 0.28238738536039376\n",
            "==================================================\n"
          ],
          "name": "stdout"
        }
      ]
    },
    {
      "cell_type": "code",
      "metadata": {
        "id": "X-soTlpxfNRv"
      },
      "source": [
        "# \n",
        "labels = cluster_centers[5]['labels']\n",
        "customer_history_df['num_cluster5_labels'] = labels\n",
        "labels = cluster_centers[3]['labels']\n",
        "customer_history_df['num_cluster3_labels'] = labels"
      ],
      "execution_count": 34,
      "outputs": []
    },
    {
      "cell_type": "code",
      "metadata": {
        "colab": {
          "base_uri": "https://localhost:8080/",
          "height": 204
        },
        "id": "62q_VHSih8-c",
        "outputId": "5a86a128-f4be-4b5b-96d0-05f4fc328f2b"
      },
      "source": [
        "customer_history_df.head()"
      ],
      "execution_count": 35,
      "outputs": [
        {
          "output_type": "execute_result",
          "data": {
            "text/html": [
              "<div>\n",
              "<style scoped>\n",
              "    .dataframe tbody tr th:only-of-type {\n",
              "        vertical-align: middle;\n",
              "    }\n",
              "\n",
              "    .dataframe tbody tr th {\n",
              "        vertical-align: top;\n",
              "    }\n",
              "\n",
              "    .dataframe thead th {\n",
              "        text-align: right;\n",
              "    }\n",
              "</style>\n",
              "<table border=\"1\" class=\"dataframe\">\n",
              "  <thead>\n",
              "    <tr style=\"text-align: right;\">\n",
              "      <th></th>\n",
              "      <th>CustomerID</th>\n",
              "      <th>recency</th>\n",
              "      <th>amount</th>\n",
              "      <th>frequency</th>\n",
              "      <th>recency_log</th>\n",
              "      <th>frequency_log</th>\n",
              "      <th>amount_log</th>\n",
              "      <th>num_cluster5_labels</th>\n",
              "      <th>num_cluster3_labels</th>\n",
              "    </tr>\n",
              "  </thead>\n",
              "  <tbody>\n",
              "    <tr>\n",
              "      <th>0</th>\n",
              "      <td>12346.0</td>\n",
              "      <td>326.0</td>\n",
              "      <td>77183.601</td>\n",
              "      <td>1</td>\n",
              "      <td>5.786897</td>\n",
              "      <td>0.000000</td>\n",
              "      <td>11.253942</td>\n",
              "      <td>4</td>\n",
              "      <td>0</td>\n",
              "    </tr>\n",
              "    <tr>\n",
              "      <th>1</th>\n",
              "      <td>12747.0</td>\n",
              "      <td>2.0</td>\n",
              "      <td>4196.011</td>\n",
              "      <td>103</td>\n",
              "      <td>0.693147</td>\n",
              "      <td>4.634729</td>\n",
              "      <td>8.341890</td>\n",
              "      <td>0</td>\n",
              "      <td>2</td>\n",
              "    </tr>\n",
              "    <tr>\n",
              "      <th>2</th>\n",
              "      <td>12748.0</td>\n",
              "      <td>1.0</td>\n",
              "      <td>33719.731</td>\n",
              "      <td>4596</td>\n",
              "      <td>0.000000</td>\n",
              "      <td>8.432942</td>\n",
              "      <td>10.425838</td>\n",
              "      <td>0</td>\n",
              "      <td>2</td>\n",
              "    </tr>\n",
              "    <tr>\n",
              "      <th>3</th>\n",
              "      <td>12749.0</td>\n",
              "      <td>4.0</td>\n",
              "      <td>4090.881</td>\n",
              "      <td>199</td>\n",
              "      <td>1.386294</td>\n",
              "      <td>5.293305</td>\n",
              "      <td>8.316516</td>\n",
              "      <td>0</td>\n",
              "      <td>2</td>\n",
              "    </tr>\n",
              "    <tr>\n",
              "      <th>4</th>\n",
              "      <td>12820.0</td>\n",
              "      <td>3.0</td>\n",
              "      <td>942.341</td>\n",
              "      <td>59</td>\n",
              "      <td>1.098612</td>\n",
              "      <td>4.077537</td>\n",
              "      <td>6.848367</td>\n",
              "      <td>0</td>\n",
              "      <td>2</td>\n",
              "    </tr>\n",
              "  </tbody>\n",
              "</table>\n",
              "</div>"
            ],
            "text/plain": [
              "   CustomerID  recency  ...  num_cluster5_labels  num_cluster3_labels\n",
              "0     12346.0    326.0  ...                    4                    0\n",
              "1     12747.0      2.0  ...                    0                    2\n",
              "2     12748.0      1.0  ...                    0                    2\n",
              "3     12749.0      4.0  ...                    0                    2\n",
              "4     12820.0      3.0  ...                    0                    2\n",
              "\n",
              "[5 rows x 9 columns]"
            ]
          },
          "metadata": {
            "tags": []
          },
          "execution_count": 35
        }
      ]
    },
    {
      "cell_type": "code",
      "metadata": {
        "id": "f13NX7saiCm4"
      },
      "source": [
        "x_data = ['Cluster 1', 'Cluster 2', 'Cluster 3', 'Cluster 4', 'Cluster 5']\n",
        "cutoff_quantile = 80\n",
        "field_to_plot = 'amount'\n",
        "# select amount data for each cluster\n",
        "y0 = customer_history_df[customer_history_df['num_cluster5_labels']==0][field_to_plot].values\n",
        "y0 = y0[y0<np.percentile(y0, cutoff_quantile)]\n",
        "y1 = customer_history_df[customer_history_df['num_cluster5_labels']==1][field_to_plot].values\n",
        "y1 = y1[y1<np.percentile(y1, cutoff_quantile)]\n",
        "y2 = customer_history_df[customer_history_df['num_cluster5_labels']==2][field_to_plot].values\n",
        "y2 = y2[y2<np.percentile(y2, cutoff_quantile)]\n",
        "y3 = customer_history_df[customer_history_df['num_cluster5_labels']==3][field_to_plot].values\n",
        "y3 = y3[y3<np.percentile(y3, cutoff_quantile)]\n",
        "y4 = customer_history_df[customer_history_df['num_cluster5_labels']==4][field_to_plot].values\n",
        "y4 = y4[y4<np.percentile(y4, cutoff_quantile)]\n",
        "y_data = [y0, y1, y2, y3, y4]"
      ],
      "execution_count": 36,
      "outputs": []
    },
    {
      "cell_type": "code",
      "metadata": {
        "colab": {
          "base_uri": "https://localhost:8080/",
          "height": 542
        },
        "id": "8ldq_H1QjBZz",
        "outputId": "ff0b1dc4-9686-4326-cd54-26a99b771ec8"
      },
      "source": [
        "colors = ['rgba(93, 164, 214, 0.5)', 'rgba(255, 144, 14, 0.5)', 'rgba(44, 160, 101, 0.5)',\n",
        "          'rgba(255, 65, 54, 0.5)', 'rgba(207, 114, 255, 0.5)', 'rgba(127, 96, 0, 0.5)']\n",
        "\n",
        "traces = []\n",
        "for xd, yd, cls in zip(x_data, y_data, colors):\n",
        "  traces.append(go.Box(y=yd, name=xd, boxpoints=False, jitter=0.5, whiskerwidth=0.2, fillcolor=cls,\n",
        "                       marker=dict(size=2,), line=dict(width=1)))\n",
        "\n",
        "layout = go.Layout(title='Difference in sales {} from cluster to cluster.'.format(field_to_plot),\n",
        "                   yaxis=dict(autorange=True, zeroline=True, gridcolor='black', \n",
        "                              zerolinecolor='yellow', zerolinewidth=2),\n",
        "                   margin=dict(l=40, r=30, b=80, t=100), paper_bgcolor='white', plot_bgcolor='white', showlegend=False)\n",
        "\n",
        "fig = go.Figure(data=traces, layout=layout)\n",
        "py.offline.iplot(fig)"
      ],
      "execution_count": 42,
      "outputs": [
        {
          "output_type": "display_data",
          "data": {
            "text/html": [
              "<html>\n",
              "<head><meta charset=\"utf-8\" /></head>\n",
              "<body>\n",
              "    <div>\n",
              "            <script src=\"https://cdnjs.cloudflare.com/ajax/libs/mathjax/2.7.5/MathJax.js?config=TeX-AMS-MML_SVG\"></script><script type=\"text/javascript\">if (window.MathJax) {MathJax.Hub.Config({SVG: {font: \"STIX-Web\"}});}</script>\n",
              "                <script type=\"text/javascript\">window.PlotlyConfig = {MathJaxConfig: 'local'};</script>\n",
              "        <script src=\"https://cdn.plot.ly/plotly-latest.min.js\"></script>    \n",
              "            <div id=\"426f4d3f-3643-4679-ae0a-98a20726a638\" class=\"plotly-graph-div\" style=\"height:525px; width:100%;\"></div>\n",
              "            <script type=\"text/javascript\">\n",
              "                \n",
              "                    window.PLOTLYENV=window.PLOTLYENV || {};\n",
              "                    \n",
              "                if (document.getElementById(\"426f4d3f-3643-4679-ae0a-98a20726a638\")) {\n",
              "                    Plotly.newPlot(\n",
              "                        '426f4d3f-3643-4679-ae0a-98a20726a638',\n",
              "                        [{\"boxpoints\": false, \"fillcolor\": \"rgba(93, 164, 214, 0.5)\", \"jitter\": 0.5, \"line\": {\"width\": 1}, \"marker\": {\"size\": 2}, \"name\": \"Cluster 1\", \"type\": \"box\", \"whiskerwidth\": 0.2, \"y\": [4196.011000000001, 4090.881000000001, 942.3409999999999, 1474.7209999999993, 1018.7110000000002, 5591.421000000003, 4022.350999999997, 2179.931000000001, 4036.8209999999963, 1535.7710000000006, 2483.631, 2160.7009999999996, 1843.001, 1387.7910000000004, 4757.160999999999, 4017.541000000003, 1856.6309999999996, 1239.381, 974.4209999999999, 5655.911, 1661.8410000000008, 4810.941000000001, 3466.281, 2616.3810000000003, 975.3609999999998, 5836.861, 4436.120999999995, 729.2710000000001, 6424.091000000001, 2294.781000000001, 2099.6409999999996, 3650.410999999999, 5064.941000000003, 1437.8510000000006, 2817.031000000001, 3957.7810000000018, 1797.781, 3401.2409999999973, 6463.841000000002, 2806.971000000001, 3834.2610000000004, 4521.491000000001, 3214.691, 5346.231, 2089.8510000000006, 2000.8609999999992, 1456.7909999999993, 775.9410000000001, 3090.7409999999986, 2520.0209999999997, 6127.430999999998, 3641.3209999999976, 3809.891, 3408.0609999999997, 3539.3710000000024, 5704.971000000001, 2531.5809999999983, 2044.8709999999996, 2479.160999999999, 1791.5609999999983, 1093.6510000000003, 5870.081000000016, 3448.290999999999, 605.0609999999998, 2092.3210000000004, 6717.341000000001, 1981.9209999999994, 697.0409999999999, 5153.6709999999985, 1131.8810000000005, 2031.7810000000002, 1678.121, 2639.171000000004, 6363.590999999984, 3722.4210000000016, 3119.4410000000016, 2308.060999999999, 6328.051000000004, 731.9009999999998, 3131.021000000001, 1341.6009999999997, 2161.3510000000015, 5189.520999999995, 3190.5510000000013, 2796.5109999999995, 1747.661, 691.7309999999999, 1245.9010000000003, 3192.541, 2770.9410000000007, 6403.251000000004, 1191.1309999999999, 2674.4809999999984, 1883.8109999999995, 1838.851, 2427.3209999999976, 1026.4210000000003, 4147.961000000001, 2313.141000000001, 3901.811000000004, 2874.721000000001, 2975.591000000001, 5681.720999999997, 6217.961000000002, 6140.4209999999985, 1438.8210000000029, 1018.4309999999998, 4448.540999999997, 4076.9110000000032, 3104.1710000000007, 1360.2810000000002, 5683.150999999999, 1840.4210000000005, 2780.151, 2740.431000000002, 1123.8609999999999, 3586.0310000000013, 4690.311000000001, 982.3810000000004, 935.0509999999996, 4191.000999999999, 4693.01099999999, 1620.931, 4748.520999999998, 4654.080999999998, 4684.761000000001, 2073.4310000000005, 1839.301, 2004.9810000000002, 2588.7709999999993, 1904.0510000000002, 2879.7010000000005, 2618.231000000001, 3729.3410000000044, 2314.651, 3883.2509999999984, 4871.930999999999, 1046.5609999999992, 3965.6209999999955, 2352.5310000000013, 1530.750999999999, 5014.841000000004, 3212.8410000000017, 4652.821000000002, 3507.711000000001, 2612.961000000001, 4051.480999999999, 2606.5310000000004, 5900.280999999999, 1937.2510000000002, 1058.0610000000001, 4263.6410000000005, 1244.8310000000004, 2255.5109999999986, 2357.6810000000005, 1712.8910000000008, 1039.5810000000008, 3062.4009999999985, 2383.2410000000004, 2470.671, 3543.261000000002, 5905.640999999987, 2012.1710000000012, 4332.200999999996, 4447.0509999999995, 2578.0910000000026, 4007.5409999999993, 2381.041000000002, 2237.7710000000015, 5074.770999999998, 2832.8410000000013, 1052.5510000000004, 1788.3609999999999, 959.0110000000001, 1417.2909999999997, 1947.5509999999997, 1932.231, 2529.9310000000014, 1736.4009999999994, 5630.870999999997, 2078.951, 1250.7610000000013, 2549.370999999999, 3292.1409999999983, 1546.9109999999998, 4921.041000000007, 2868.8009999999967, 2666.3610000000003, 1602.1310000000008, 1158.301, 2005.0610000000063, 2702.491, 6065.691, 3902.2810000000004, 5010.280999999999, 1625.9709999999993, 2473.371, 1319.9109999999996, 2226.9109999999987, 2953.591000000002, 1025.4409999999998, 3501.100999999998, 1487.8010000000013, 6316.570999999991, 1261.7809999999997, 1914.8210000000024, 6802.7609999999895, 1661.3310000000006, 668.141, 2586.671000000001, 4308.610999999999, 5213.771000000002, 2420.8410000000026, 3609.331000000001, 2199.3109999999992, 1286.7010000000005, 6580.441000000007, 1194.7310000000004, 5314.470999999995, 4745.691, 961.4909999999999, 1936.0710000000006, 1624.0509999999997, 4777.181000000001, 870.121, 1661.441, 5756.891000000001, 1412.321000000001, 2507.071000000002, 4799.901000000001, 1960.111000000001, 2415.9110000000005, 5955.710999999999, 1535.5309999999997, 2183.541, 815.7709999999998, 1122.5310000000006, 3236.910999999999, 1418.2610000000016, 1388.371000000001, 3594.3109999999997, 4139.461000000002, 825.9210000000002, 3995.2309999999975, 2007.4409999999993, 3546.7109999999952, 4954.840999999991, 4805.170999999989, 4165.521000000001, 2552.8610000000003, 6776.560999999997, 2870.2410000000004, 3285.311000000001, 1333.6810000000003, 2993.100999999999, 6479.400999999998, 1542.141, 5045.610999999998, 5178.961000000001, 4812.420999999997, 2465.4809999999993, 2364.2510000000025, 2614.741000000001, 2711.5609999999997, 4206.390999999997, 5528.480999999997, 2974.6509999999976, 3165.3610000000012, 832.881, 3812.6409999999987, 493.28099999999995, 1388.8809999999999, 5126.761, 967.4509999999998, 1232.1809999999996, 2495.871000000001, 2837.6710000000007, 2797.5709999999985, 3362.7110000000025, 705.3909999999996, 1508.7610000000013, 2234.7309999999993, 1667.9710000000018, 2424.9409999999993, 3799.490999999996, 3122.0410000000015, 5575.560999999998, 3787.601000000001, 1822.9710000000002, 5180.521000000001, 1080.6209999999992, 1863.4709999999993, 2607.871000000007, 3603.211000000001, 2619.911, 5447.001000000003, 1429.2409999999998, 1570.8109999999992, 3110.961000000005, 3844.221, 6675.7109999999975, 2027.500999999999, 1750.9209999999994, 3512.531, 987.0110000000006, 2157.401000000001, 3046.2110000000016, 4098.320999999999, 2126.931000000002, 1908.2510000000002, 798.3509999999997, 3640.6709999999994, 616.7909999999999, 3482.7410000000004, 1871.5010000000025, 684.4110000000003, 1599.5210000000002, 1388.811, 4154.640999999994, 3738.4010000000007, 4113.681, 5493.461000000007, 4413.101000000002, 3794.520999999997, 933.6209999999995, 4095.9010000000026, 3109.9910000000013, 1260.861, 5076.551000000002, 5398.301000000002, 2483.041, 3645.430999999996, 6923.1310000000085, 4730.811000000001, 1304.7609999999993, 6697.661000000009, 2799.251000000002, 1695.6610000000019, 2279.9010000000003, 1545.6209999999996, 1222.7110000000011, 1201.4910000000002, 1692.9809999999998, 6509.101000000003, 1604.7510000000004, 3349.5710000000004, 1106.5309999999997, 809.7010000000001, 525.5409999999997, 1281.5609999999997, 3754.270999999999, 3102.4310000000005, 1510.061000000002, 1295.3910000000005, 4604.220999999988, 2736.3810000000017, 1920.5910000000017, 1286.271, 2085.0810000000006, 1852.0010000000004, 1931.2509999999997, 5464.121000000001, 1625.0510000000004, 3989.571000000001, 1272.6110000000012, 1044.3810000000003, 5659.981000000006, 4552.141000000004, 2050.080999999999, 2043.951000000001, 3827.7610000000022, 808.6209999999996, 2463.171000000001, 984.5709999999998, 3766.6009999999987, 3347.3109999999992, 2474.231, 1960.7210000000002, 3174.3210000000026, 3744.6510000000003, 1419.7310000000011, 1875.1110000000006, 6292.260999999996, 6643.930999999995, 2676.5609999999992, 1286.0710000000001, 4481.180999999996, 4801.560999999999, 4100.920999999995, 2633.851, 1031.411, 1258.0610000000001, 4226.571, 5037.260999999999, 2373.821000000001, 2520.861, 1721.4009999999998, 1255.5910000000006, 2092.321, 3558.8710000000005, 1070.711, 3628.5010000000016, 2385.0010000000025, 1952.4509999999998, 901.2110000000007, 4331.481, 3622.680999999998, 1479.221, 3927.341, 5102.970999999997, 3984.2209999999995, 4559.151, 971.5810000000001, 1814.1210000000008, 2895.6409999999996, 3945.001000000001, 2638.9410000000025, 1629.1210000000017, 1387.6810000000005, 2474.3310000000006, 5739.4610000000075, 1823.5209999999993, 5655.991000000002, 3439.0810000000006, 2876.0110000000013, 5298.480999999997, 2322.401, 1797.5709999999997, 1772.260999999999, 5605.290999999994, 3456.7010000000028, 2273.1810000000005, 3997.9809999999993, 3055.930999999997, 1770.8810000000026, 1995.461000000001, 5155.660999999998, 2100.8010000000004, 1894.3510000000017, 671.7709999999994, 717.4509999999993, 4204.100999999989, 4301.2210000000005, 2332.721000000001, 4488.8110000000015, 4183.390999999995, 2088.600999999999, 6784.191000000001, 2392.831000000001, 2633.010999999999, 2697.801, 5653.820999999971, 1826.2110000000016, 2888.751000000001, 2861.551000000001, 1793.1710000000007, 1843.751, 5425.561000000004, 2621.3809999999994, 2069.7710000000006, 6484.541000000004, 5509.121, 2810.200999999999, 987.1009999999998, 2073.0910000000013, 2567.0609999999997, 3078.5810000000006, 2094.881000000003]}, {\"boxpoints\": false, \"fillcolor\": \"rgba(255, 144, 14, 0.5)\", \"jitter\": 0.5, \"line\": {\"width\": 1}, \"marker\": {\"size\": 2}, \"name\": \"Cluster 2\", \"type\": \"box\", \"whiskerwidth\": 0.2, \"y\": [92.721, 215.05100000000002, 134.101, 38.101, 147.121, 216.501, 138.681, 117.85100000000001, 114.141, 108.071, 135.951, 144.80100000000002, 39.241, 97.501, 211.321, 120.951, 149.05100000000002, 81.571, 50.551, 204.001, 190.551, 183.401, 115.46100000000003, 228.80100000000002, 177.15099999999998, 58.080999999999996, 74.40100000000001, 207.361, 101.19099999999999, 243.941, 76.501, 30.601, 64.001, 77.301, 109.80100000000002, 110.951, 91.801, 112.751, 121.181, 71.40100000000001, 114.60100000000001, 60.701, 62.641, 163.20100000000002, 108.21100000000001, 160.951, 0.001, 200.29100000000003, 138.98099999999997, 137.751, 93.661, 201.191, 201.201, 87.40100000000001, 142.501, 63.751, 15.001, 134.961, 56.161, 59.800999999999995, 75.001, 159.851, 151.501, 165.001, 184.641, 140.34100000000004, 110.971, 205.10099999999997, 152.20100000000002, 122.751, 125.80100000000002, 91.80100000000002, 141.86100000000002, 118.00099999999999, 177.34100000000004, 94.20100000000001, 189.471, 84.65100000000002, 218.55100000000002, 186.391, 59.501, 72.001, 172.251, 151.30100000000002, 99.501, 180.48100000000002, 228.84099999999998, 199.85100000000003, 216.901, 79.601, 178.701, 127.84100000000002, 230.401, 195.55099999999996, 112.601, 189.501, 52.20099999999999, 85.001, 216.17099999999996, 145.671, 122.701, 117.24100000000001, 155.931, 172.25099999999998, 158.851, 71.661, 90.601, 102.00099999999999, 80.70100000000001, 200.14100000000002, 76.801, 104.82100000000003, 152.201, 154.99099999999999, 92.461, 183.60099999999997, 152.55100000000002, 45.60099999999999, 161.001, 76.32100000000001, 144.201, 90.001, 115.801, 157.201, 118.751, 197.651, 185.40099999999998, 151.74099999999999, 169.48100000000002, 161.00100000000003, 146.851, 213.70100000000002, 120.001, 112.32100000000003, 134.041, 166.201, 43.201, 120.001, 183.851, 134.701, 108.981, 51.001, 90.601, 174.401, 155.00100000000003, 100.501, 76.551, 142.401, 67.951, 156.751, 89.061, 63.001, 131.901, 113.641, 234.341, 137.10100000000003, 139.561, 123.80099999999999, 241.09100000000004, 103.25100000000002, 35.401, 114.111, 39.751, 225.85099999999997, 114.56099999999999, 110.461, 96.12100000000001, 107.95100000000001, 52.001, 112.80100000000002, 172.901, 109.13099999999999, 179.001, 89.20100000000001, 139.261, 200.10100000000003, 77.40100000000001, 197.64100000000002, 6.2010000000000005, 131.451, 173.741, 157.701, 193.39100000000005, 48.801, 62.851, 125.79100000000003, 135.901, 125.65100000000001, 100.90100000000001, 58.49100000000001, 126.70100000000002, 206.211, 114.77100000000003, 102.12099999999998, 156.91100000000003, 135.931, 121.17100000000002, 106.20100000000001, 88.201, 219.391, 139.051, 178.96100000000007, 158.16100000000003, 106.561, 135.751, 40.501, 87.501, 193.641, 101.80099999999999, 96.601, 154.411, 98.45100000000001, 178.95100000000002, 156.51099999999997, 119.30100000000002, 113.12100000000001, 240.55100000000002, 205.30100000000002, 52.001, 165.001, 208.75100000000003, 201.60099999999997, 158.04099999999997, 115.65100000000001, 168.001, 107.45100000000002, 94.001, 190.53100000000003, 97.70100000000001, 43.501, 113.501, 155.171, 161.641, 234.60100000000003, 126.141, 91.32100000000001, 52.83100000000001, 121.001, 62.431, 148.441, 90.12100000000001, 134.55100000000002, 173.16099999999997, 127.101, 199.80100000000002, 48.481, 104.76100000000001, 112.461, 195.151, 30.001, 138.14100000000002, 76.32100000000001, 173.05100000000002, 193.751, 136.80100000000002, 211.501, 143.10100000000003, 133.251, 150.30100000000002, 218.251, 85.001, 162.30100000000002, 154.88100000000003, 34.800999999999995, 79.20100000000001, 104.90100000000001, 15.001, 137.371, 118.95100000000001, 130.741, 149.641, 181.091, 168.311, 179.171, 56.251, 191.94099999999997, 123.10100000000001, 207.151, 145.351, 35.800999999999995, 181.001, 104.351, 101.401, 137.901, 134.80100000000002, 122.401, 79.20100000000001, 217.16100000000003, 17.001, 185.05100000000002, 108.381, 135.75100000000003, 175.201, 76.32100000000001, 37.400999999999996, 73.20100000000001, 197.90100000000004, 215.83100000000002, 215.08100000000002, 159.001, 114.561, 152.941, 46.951, 168.30100000000002, 142.501, 233.221, 207.50100000000003, 151.05100000000002, 214.80100000000004, 109.95100000000002, 101.10100000000001, 53.501, 153.901, 109.36100000000002, 94.361, 177.501, 167.251, 133.561, 241.061, 6.901000000000001, 208.36100000000002, 136.001, 74.90100000000001, 100.97100000000002, 90.30100000000002, 101.70100000000001, 119.62100000000001, 173.701, 105.84100000000001, 213.501, 145.05100000000002, 75.661, 129.491, 151.85100000000003, 129.451, 217.901, 231.10100000000003, 123.241, 39.120999999999995, 135.401, 129.751, 183.70100000000002, 225.58099999999996, 3.751, 207.501, 106.831, 34.001, 107.601, 110.38100000000001, 128.501, 197.221, 199.15100000000004, 180.85100000000003, 214.32100000000003, 193.441, 124.571, 35.401, 173.761, 207.74099999999999, 13.301, 113.44100000000002, 20.801000000000002, 117.35100000000001, 110.55100000000002, 179.001, 71.001, 95.851, 154.831, 146.871, 234.241, 118.80100000000002, 25.501, 163.301, 116.20099999999998, 157.02100000000002, 138.321, 157.091, 124.881, 158.681, 59.900999999999996, 144.001, 203.951, 204.241, 226.851, 113.501, 149.891, 171.451, 63.441, 187.831, 82.751, 96.801, 175.201, 243.36100000000002, 228.961, 110.751, 65.40100000000001, 203.87099999999995, 32.650999999999996, 100.801, 186.421, 120.90100000000001, 131.701, 194.37099999999995, 153.941, 145.001, 223.36100000000002, 164.40099999999998, 76.501, 98.42100000000002, 103.301, 148.86100000000002, 157.901, 226.751, 185.65099999999998, 143.46099999999998, 116.01100000000001, 81.441, 75.75100000000002, 108.501, 101.55100000000002, 133.061, 205.701, 154.95100000000002, 152.40099999999998, 137.451, 153.001, 139.351, 110.25100000000002, 71.40100000000001, 80.641, 15.001, 56.400999999999996, 188.021, 131.94100000000003, 106.101, 36.560999999999986, 35.401, 155.90099999999998, 237.61100000000002, 178.521, 133.35100000000003, 111.351, 112.25100000000005, 98.00099999999998, 112.201, 72.90100000000001, 207.50100000000003, 244.08100000000002, 99.14100000000003, 77.50100000000002, 176.681, 12.751, 73.781, 20.801000000000002, 198.571, 93.351, 76.101, 174.801, 38.451, 73.501, 70.021, 165.051, 172.29100000000003, 74.40100000000001, 101.701, 90.481, 101.341, 76.32100000000001, 111.151, 112.551, 152.651, 160.351, 179.34099999999998, 202.65100000000004, 104.001, 49.800999999999995, 207.801, 139.10100000000003, 158.95100000000002, 93.751, 103.301, 149.481, 25.501, 168.601, 110.381, 173.90099999999998, 180.601, 80.821]}, {\"boxpoints\": false, \"fillcolor\": \"rgba(44, 160, 101, 0.5)\", \"jitter\": 0.5, \"line\": {\"width\": 1}, \"marker\": {\"size\": 2}, \"name\": \"Cluster 3\", \"type\": \"box\", \"whiskerwidth\": 0.2, \"y\": [948.8809999999999, 2612.860999999999, 683.1309999999994, 1702.261, 871.5409999999998, 1050.8909999999998, 1957.1009999999999, 1324.5010000000007, 1607.0610000000008, 1175.2209999999995, 1378.401, 2178.6710000000003, 2062.7009999999996, 607.5309999999998, 1063.9010000000005, 1504.2710000000004, 913.541, 1603.9910000000002, 2064.951, 771.9109999999996, 1226.891, 1010.1809999999997, 1835.9109999999994, 1214.411, 1119.4910000000004, 1531.6210000000003, 786.541, 1488.6710000000012, 984.9109999999996, 1197.8109999999995, 1073.3009999999997, 1793.581, 2607.611, 962.3910000000001, 2388.7509999999997, 1676.0609999999997, 971.761, 1741.220999999999, 1201.0610000000004, 1688.2909999999995, 1021.4809999999999, 1319.191, 492.84100000000007, 1701.2910000000008, 1575.8910000000003, 911.9410000000001, 1223.9009999999998, 788.0809999999998, 1520.5810000000004, 2155.9509999999996, 1357.6010000000015, 1987.3010000000008, 2107.661000000001, 814.8610000000001, 1385.511, 1132.0310000000002, 1555.3209999999992, 2273.680999999999, 1548.7010000000002, 1140.9309999999996, 2543.7210000000023, 992.5010000000002, 2225.3710000000015, 572.5609999999997, 1360.9909999999998, 1544.1309999999996, 1851.0809999999994, 2626.301000000001, 1624.2109999999998, 1269.1009999999994, 1129.141, 2043.7210000000002, 1058.341, 1766.7209999999998, 1445.0010000000002, 1083.711, 1431.7810000000009, 1454.580999999999, 1804.5609999999992, 1122.4109999999998, 1215.821, 1166.7710000000002, 891.1210000000002, 1389.4110000000003, 2128.4210000000003, 2287.511000000001, 1280.8509999999999, 682.411, 918.2009999999998, 1799.3309999999988, 1749.0210000000004, 874.7109999999997, 1687.6009999999987, 2478.950999999998, 1117.1310000000003, 2037.0810000000008, 693.3210000000001, 678.0109999999996, 1171.8010000000002, 1610.461000000001, 747.7810000000003, 1638.4710000000002, 2121.271, 1575.1610000000003, 1071.0310000000002, 949.1209999999999, 810.5009999999997, 2624.2610000000013, 1836.341, 1095.081, 1573.2010000000007, 1488.3210000000004, 2504.130999999999, 2265.120999999999, 1445.0110000000002, 2375.411000000001, 1980.5610000000004, 1079.6610000000003, 1016.1409999999998, 1156.3609999999999, 1647.2609999999997, 1186.2810000000002, 1070.651, 1521.7610000000002, 2634.4510000000014, 1132.131, 912.0009999999992, 1698.9409999999998, 412.05099999999976, 2202.991, 834.571, 865.0610000000005, 1537.951, 1595.4809999999995, 2209.3610000000012, 1015.2910000000002, 1786.7910000000004, 1281.531, 2593.0709999999995, 2369.5509999999986, 2580.910999999999, 1212.8410000000001, 1237.5310000000002, 598.2009999999999, 2526.2809999999995, 869.8710000000001, 1871.811, 2603.431, 1266.0809999999997, 1393.6909999999996, 2043.081, 1421.6110000000003, 2360.091, 651.8210000000001, 1428.0210000000002, 1560.380999999999, 652.8209999999992, 746.3610000000001, 1353.7410000000002, 1049.3710000000003, 1382.7410000000002, 1110.521, 2445.911000000001, 1631.7710000000002, 719.7809999999997, 2054.361, 1905.8410000000001, 2241.1010000000006, 1004.3809999999996, 1789.7210000000005, 991.131, 1050.121, 2232.1910000000003, 1547.201, 2048.071000000001, 1462.7210000000007, 775.4610000000004, 2380.851000000002, 1693.4509999999996, 1474.0610000000006, 1163.4509999999998, 1119.7409999999998, 1910.0110000000004, 1305.3309999999997, 1858.9609999999998, 2093.321, 1611.5909999999994, 2481.1309999999994, 2552.2110000000007, 1614.9110000000007, 2182.2809999999986, 2128.231, 626.071, 1247.6909999999998, 1770.5610000000013, 1043.461, 1474.3210000000004, 2157.7309999999998, 2059.451, 1105.0709999999985, 770.0310000000002, 1496.9810000000004, 1420.2010000000005, 1163.2310000000004, 907.1009999999999, 662.5910000000001, 2103.0609999999992, 2004.0210000000004, 1058.6210000000008, 2272.4010000000017, 1936.8410000000013, 2068.151000000001, 1196.3310000000001, 1064.2810000000002, 1957.3210000000004, 815.321, 673.2609999999995, 1383.1809999999994, 1314.8109999999997, 1055.3509999999999, 2102.091, 1867.6810000000007, 620.0409999999998, 1949.7210000000007, 1461.6509999999998, 2024.4510000000005, 859.271, 1080.7610000000004, 1530.3610000000006, 1653.4210000000016, 859.711000000001, 1042.2609999999995, 1601.1410000000008, 1447.141000000001, 570.4609999999998, 617.9910000000001, 1740.601, 889.2509999999999, 1006.9809999999998, 2125.080999999999, 654.6009999999998, 848.221, 771.1710000000003, 637.891, 1835.7010000000002, 1269.9910000000002, 604.7509999999999, 2548.241, 1236.2810000000013, 2114.3309999999997, 2235.301, 606.1310000000002, 867.3810000000001, 1314.4509999999998, 1448.2109999999993, 1400.3410000000003, 1220.2610000000002, 1415.7509999999995, 1484.0609999999995, 1011.901, 2538.300999999999, 2087.8809999999994, 778.501, 1720.3010000000004, 1649.501000000001, 1311.3810000000005, 1173.1209999999996, 1353.740999999999, 1465.3210000000001, 1485.5410000000006, 1237.8510000000003, 1303.5209999999995, 1421.2910000000004, 1227.4310000000005, 1268.9809999999998, 1610.1509999999996, 1316.0710000000004, 749.1009999999998, 1101.9709999999995, 695.4209999999999, 1592.061, 1116.5709999999992, 790.8609999999996, 1931.4210000000028, 490.52099999999996, 1641.7609999999997, 1246.3209999999995, 502.0909999999997, 423.0409999999996, 905.0409999999995, 1066.1509999999996, 465.551, 705.4909999999996, 384.0509999999998, 1782.0910000000003, 1391.611, 2124.9910000000027, 1337.7210000000007, 987.8609999999999, 893.591, 1744.7610000000004, 553.3609999999998, 1160.071, 1370.6009999999997, 2298.9310000000014, 1422.5210000000002, 1567.4809999999998, 1352.7510000000002, 1551.7810000000002, 1633.780999999999, 1471.0010000000007, 1387.991, 2354.2510000000007, 1327.1610000000007, 843.0509999999997, 2206.9510000000005, 1236.5410000000002, 1827.8009999999983, 894.411, 1778.9609999999993, 1219.401, 2247.511, 1071.9909999999998, 1706.571, 1756.4410000000007, 2515.841000000001, 890.8509999999999, 1810.771, 1506.121, 2379.491, 721.9409999999998, 2332.1509999999994, 2306.5209999999993, 939.7810000000003, 1174.3509999999997, 924.8510000000001, 1049.7009999999998, 574.0709999999998, 2314.3210000000004, 1877.5909999999992, 2386.0510000000004, 1233.3609999999996, 1345.5309999999997, 1056.441, 1358.8810000000003, 950.3609999999995, 1447.391, 1483.1409999999998, 974.521, 1441.4209999999996, 2575.001, 1134.281, 2001.801000000005, 1299.231000000001, 979.2610000000004, 909.2310000000001, 1942.4510000000012, 2429.780999999999, 1502.351, 1580.9310000000032, 807.5709999999997, 1693.261, 1400.4409999999998, 607.451, 702.2510000000001, 940.6710000000002, 725.1109999999999, 1771.781, 1406.5910000000003, 1198.231, 1093.681, 1553.181, 1534.261, 1186.3509999999999, 1887.2010000000005, 813.0009999999997, 748.5010000000001, 1600.8609999999999, 2242.011000000001, 2446.601, 781.2809999999998, 1426.1609999999998, 2293.6209999999996, 1060.561, 945.5809999999999, 1118.8110000000004, 598.7310000000001, 2222.561, 1120.8810000000003, 1205.1209999999999, 784.4610000000004, 1094.591, 974.0409999999995, 532.9609999999994, 1086.9210000000003, 2328.9710000000005, 948.051, 1612.6910000000003, 884.1410000000002, 699.0810000000001, 1063.9509999999998, 903.9010000000001, 1391.9809999999998, 2218.6209999999996, 1801.141, 1945.3310000000004, 2100.6010000000006, 1905.451, 570.961, 1654.311, 1836.0910000000008, 801.7609999999999, 2233.7509999999993, 954.0909999999996, 1048.4910000000002, 1224.0610000000004, 1438.8510000000008, 977.2109999999992, 895.1310000000002, 1567.6910000000014, 1528.0910000000006, 639.891, 1107.4610000000002, 1708.2410000000002, 1765.510999999999, 806.5709999999998, 1659.3809999999999, 845.6409999999998, 1054.7309999999995, 1098.7810000000002, 2398.861, 1475.021, 1451.2810000000004, 792.111, 1060.6809999999994, 615.3909999999989, 1701.940999999998, 992.7109999999999, 1415.2909999999997, 662.3809999999999, 719.8109999999999, 548.9409999999999, 1313.5510000000006, 1197.2710000000002, 1340.7010000000002, 1111.7909999999993, 1511.9509999999996, 664.851, 2263.121, 1459.8610000000008, 1521.871, 981.5109999999999, 1121.391, 2005.6310000000003, 1290.701, 1842.1410000000003, 1337.4810000000016, 1309.141, 867.1109999999998, 1880.221, 2053.0209999999993, 1824.2310000000002, 1885.0509999999995, 1140.211, 1418.3209999999992, 1037.5909999999997, 1158.7910000000002, 981.8610000000001, 761.381, 537.0609999999999, 664.2610000000001, 2262.621, 864.861, 1295.3010000000004, 1096.321, 990.8809999999997, 867.3109999999996, 1522.7509999999997, 1413.661000000001, 1800.0710000000006, 746.8309999999999, 861.8909999999997, 1509.5810000000004, 823.9709999999995, 2248.9910000000004, 1328.5510000000004, 1341.6509999999998, 1593.2010000000002, 549.0709999999998, 1971.8710000000003, 887.6510000000001, 1469.4510000000005, 1116.4709999999995, 896.6610000000001, 734.7709999999996, 1540.4210000000005, 804.4909999999994, 1553.661, 1320.5610000000004, 367.9309999999998, 473.03099999999966, 1780.5910000000001, 668.3609999999995, 1382.071, 1555.3410000000006, 1486.9010000000003, 1705.8010000000004, 2028.8810000000017, 1051.4009999999998, 675.2710000000002, 1522.2510000000004, 654.6710000000003, 1841.1810000000005, 2158.3710000000005, 814.7209999999995, 1422.401, 1314.6810000000003, 1603.4610000000007, 650.4310000000004, 762.391, 2494.4610000000007, 731.501, 1351.6310000000003, 1431.9310000000005, 950.2609999999999, 1627.1310000000005, 1046.5710000000004, 1244.5910000000001, 1095.5610000000006, 2298.9709999999986, 837.101, 841.4109999999997, 1421.6910000000003, 1187.6609999999998, 2188.051, 1154.4710000000002, 1680.7209999999998, 1257.5109999999997, 1212.6610000000005, 1374.8710000000003, 319.61100000000005, 1592.1209999999999, 1770.3410000000003, 531.351, 1790.4210000000007, 1382.0210000000013, 1054.6709999999996, 743.111, 650.511, 2300.5609999999992, 2238.091000000001, 836.061, 1515.9009999999992, 623.9309999999999, 1764.7209999999998, 1496.8310000000004, 1501.3809999999996, 770.1010000000006, 2246.8110000000015, 597.4809999999999, 1721.7810000000022, 1619.7310000000002, 801.4909999999995, 914.691, 1869.8210000000004, 1264.1909999999998, 825.4209999999997, 2095.5310000000004, 853.7209999999998, 1519.0810000000004, 1578.6710000000005, 508.8109999999997, 887.1110000000004, 1706.881, 579.7710000000002, 981.6510000000001, 2575.381000000001, 576.2610000000003, 1068.8209999999997, 2596.4509999999996, 846.7509999999997, 950.9309999999999, 1178.561, 1277.7510000000013, 507.05099999999993, 1614.311, 1456.961, 1493.731, 1412.9409999999996, 889.931, 1842.5609999999995, 890.2909999999997, 1267.3209999999997, 1081.5710000000001, 1735.1809999999998, 1100.901, 1356.3310000000004, 1179.8909999999998, 1461.1409999999996, 859.3510000000002, 2429.031000000001, 1446.091, 834.1210000000002, 2003.8510000000008, 1405.7809999999995, 1566.651, 1991.010999999999, 1777.7810000000006, 1324.160999999999, 971.741, 885.0409999999999, 1004.7509999999999, 1714.5910000000001, 1266.9709999999993, 1538.881, 1715.4609999999996, 2467.351000000001, 835.7810000000004, 1443.6910000000003, 796.0310000000002, 2095.1310000000017, 1699.3010000000004, 692.2210000000001, 2317.2210000000014, 1069.1209999999999, 1906.0910000000015, 916.1310000000002, 2148.631, 1703.4110000000003, 1652.581000000002, 1064.111, 944.4110000000004, 1135.6309999999999, 1384.851, 2328.841, 2527.9210000000003, 1200.6209999999996, 921.0710000000006, 2027.8710000000033, 781.3610000000001, 1159.521000000001, 585.7910000000002, 1912.6710000000007, 1342.6810000000012, 646.921, 784.111, 696.4109999999998, 2129.9610000000025, 2200.4210000000003, 1214.7209999999995, 1979.3709999999999, 2248.561000000001, 657.3009999999999, 757.4609999999996, 1896.4110000000019, 1870.9709999999995, 1125.0710000000001, 710.2910000000002, 639.0209999999997, 768.0810000000001, 1844.0210000000002, 939.371, 897.6210000000003, 645.9609999999999, 930.411, 483.2609999999999, 1122.3809999999996, 1498.5110000000013, 1133.0710000000004, 2404.171000000001, 2225.971000000001, 993.1809999999995, 1112.2210000000005, 2048.4509999999996, 390.07099999999986, 2047.001000000001, 1324.8409999999997, 2361.9710000000036, 1797.501, 1207.5610000000001, 1674.691, 1802.9109999999998, 2055.5109999999995, 1572.7110000000005, 1992.1110000000006, 2285.7110000000016, 2534.641, 1824.371, 798.7409999999999, 1195.941, 2424.0409999999993, 1033.0010000000002, 1060.251, 1240.1109999999999, 1879.0510000000002, 834.9909999999998, 818.8210000000001, 1225.4110000000003, 665.861, 658.5709999999999, 1865.1909999999993, 1965.5510000000013, 697.9010000000002, 780.4310000000003, 1199.011, 1285.0409999999997, 732.1610000000001, 1593.3810000000008, 901.2010000000002, 1197.1010000000003, 1859.1610000000005, 899.6109999999999, 1119.8110000000004, 341.2809999999999, 826.5210000000003, 1740.4809999999998, 1331.5709999999997, 1296.4410000000012, 471.70099999999985, 2622.570999999998, 1098.431, 740.7909999999995, 757.711, 1970.6710000000023, 382.0609999999999, 2116.1910000000003, 1483.561, 668.1110000000002, 730.4010000000001, 405.62099999999987, 559.5109999999996, 2119.4109999999996, 2036.6710000000003, 2611.751000000001, 703.3709999999996, 2106.521, 911.1510000000001, 1418.0310000000013, 1142.990999999999, 1059.3910000000003, 734.941, 1618.6909999999998, 1384.8609999999999, 1169.941, 980.3110000000001, 1231.3109999999997, 2106.8410000000003, 1341.4209999999994, 1590.8109999999997, 2001.041, 1090.241, 957.9709999999999, 689.1310000000003, 1993.701, 1041.611, 2083.2710000000015, 1796.481, 882.241, 1561.6109999999996, 2232.491, 526.6709999999996, 2337.6310000000008, 2338.601000000001, 1213.161, 1837.2809999999997]}, {\"boxpoints\": false, \"fillcolor\": \"rgba(255, 65, 54, 0.5)\", \"jitter\": 0.5, \"line\": {\"width\": 1}, \"marker\": {\"size\": 2}, \"name\": \"Cluster 4\", \"type\": \"box\", \"whiskerwidth\": 0.2, \"y\": [430.15099999999995, 383.031, 325.9609999999999, 573.221, 703.4710000000001, 380.47099999999995, 188.141, 372.80099999999993, 509.58099999999973, 164.23100000000002, 694.0509999999998, 604.511, 329.85099999999994, 266.391, 160.181, 452.24099999999993, 372.22099999999995, 409.50100000000003, 503.76099999999997, 414.7609999999999, 661.321, 676.9910000000001, 629.3109999999999, 271.40099999999995, 470.80100000000004, 344.001, 220.10099999999997, 303.751, 345.82099999999997, 307.0909999999999, 618.521, 228.911, 712.801, 486.221, 116.01100000000002, 468.4109999999999, 353.651, 260.681, 250.26100000000002, 700.7310000000001, 501.121, 399.51099999999997, 698.5809999999999, 217.38099999999991, 276.56100000000004, 258.40099999999995, 542.731, 578.9409999999999, 360.001, 598.571, 640.761, 199.481, 350.90099999999995, 247.32099999999997, 252.49099999999999, 712.5010000000001, 640.831, 582.601, 218.47099999999995, 679.451, 196.89099999999996, 291.881, 183.441, 653.3309999999999, 292.001, 680.181, 628.781, 210.31099999999984, 291.4109999999999, 626.9909999999999, 584.061, 174.37100000000004, 240.22100000000006, 373.7509999999999, 467.04099999999994, 379.651, 247.96099999999996, 180.1710000000001, 164.341, 280.54099999999994, 544.1809999999999, 122.64100000000002, 519.441, 382.1409999999999, 396.9209999999999, 711.8610000000001, 524.141, 333.48100000000005, 491.861, 659.411, 360.01099999999997, 348.80099999999993, 632.0010000000001, 209.49100000000004, 361.621, 632.971, 564.621, 388.521, 332.6409999999999, 626.4509999999999, 223.85100000000003, 464.5709999999999, 568.5509999999998, 439.921, 230.221, 169.55100000000002, 196.791, 320.461, 642.801, 584.0709999999998, 225.36099999999993, 151.041, 499.42099999999994, 194.421, 442.8509999999999, 147.35099999999997, 597.9110000000001, 692.851, 706.1310000000001, 415.8209999999999, 658.6410000000001, 432.88100000000014, 507.6610000000001, 574.8409999999999, 450.841, 134.461, 701.4009999999998, 161.03099999999998, 466.701, 89.941, 595.2510000000001, 176.631, 668.5610000000001, 133.50100000000006, 163.621, 225.77100000000013, 161.20100000000002, 348.101, 202.11100000000002, 490.221, 375.351, 264.44100000000003, 598.7609999999999, 461.19100000000003, 547.6610000000001, 279.051, 165.75100000000003, 276.42099999999994, 330.45099999999996, 270.601, 364.221, 537.481, 186.23100000000002, 227.391, 168.631, 138.601, 379.83099999999985, 221.97100000000003, 213.96100000000004, 553.441, 609.8510000000001, 247.15099999999998, 195.25099999999998, 371.70099999999996, 318.1709999999999, 160.191, 329.68099999999987, 663.8110000000003, 718.081, 380.0209999999999, 638.051, 254.11099999999996, 192.60100000000003, 289.991, 679.4409999999998, 228.991, 353.2709999999999, 554.651, 507.29100000000005, 697.5509999999999, 102.451, 511.35099999999983, 475.80099999999993, 170.32100000000003, 266.76099999999997, 52.201, 725.701, 522.3809999999996, 255.401, 589.701, 332.661, 434.35100000000006, 223.881, 371.20099999999996, 289.82099999999997, 336.1709999999998, 221.27099999999993, 191.3209999999999, 147.591, 114.391, 213.271, 326.40099999999995, 233.23100000000005, 546.201, 308.94100000000003, 260.17099999999994, 125.58100000000003, 496.21099999999996, 377.01099999999997, 627.131, 697.7909999999999, 302.10099999999994, 303.0909999999999, 504.8009999999999, 248.08099999999996, 317.53099999999995, 703.3609999999998, 340.11100000000005, 184.191, 498.741, 301.29099999999994, 329.251, 304.4709999999999, 406.76099999999997, 411.41099999999994, 420.30099999999993, 716.5710000000003, 615.1409999999998, 255.90099999999998, 486.691, 641.941, 312.621, 267.131, 714.961, 563.941, 393.541, 277.05100000000004, 427.9309999999999, 446.94100000000003, 316.881, 231.86100000000002, 510.7109999999999, 135.86100000000002, 93.781, 397.3509999999998, 171.191, 149.29100000000005, 429.84099999999995, 538.731, 524.881, 469.4809999999998, 659.4609999999999, 343.5009999999999, 398.84099999999995, 538.461, 213.30100000000004, 575.631, 436.0609999999999, 279.77099999999996, 473.65099999999995, 186.01100000000002, 650.4309999999999, 682.9110000000001, 388.58099999999996, 324.57099999999997, 336.401, 243.55100000000002, 612.0109999999997, 646.301, 306.451, 301.321, 684.341, 239.76100000000002, 191.04100000000003, 309.6509999999999, 330.8809999999998, 507.0809999999998, 415.2510000000001, 149.31099999999995, 205.251, 635.681, 345.46100000000007, 246.30100000000002, 220.85099999999997, 515.7709999999998, 576.001, 389.27099999999996, 238.85100000000003, 297.001, 68.84100000000001, 354.0909999999999, 360.93099999999987, 396.48099999999994, 351.1109999999999, 363.88099999999986, 164.68099999999998, 364.7209999999999, 708.2210000000001, 428.8909999999999, 470.7610000000001, 418.8309999999999, 666.1009999999999, 168.121, 158.03100000000003, 41.99099999999999, 478.78100000000006, 211.88099999999994, 408.901, 251.24099999999993, 439.661, 236.09100000000007, 471.7809999999999, 326.24100000000004, 423.361, 656.2510000000001, 618.0910000000001, 635.411, 280.521, 656.6909999999999, 529.411, 215.48099999999997, 405.711, 394.381, 690.341, 409.1009999999997, 598.2009999999998, 616.261, 274.151, 328.15099999999995, 326.7509999999999, 594.241, 251.911, 370.48099999999994, 575.4110000000001, 494.44100000000003, 658.881, 707.0409999999997, 327.301, 497.4309999999998, 317.20100000000014, 408.57099999999997, 163.071, 214.65099999999998, 126.251, 210.35099999999986, 346.121, 184.26100000000002, 230.51100000000002, 331.001, 300.83099999999996, 220.62099999999998, 498.80099999999993, 400.861, 484.38099999999974, 215.08100000000002, 244.411, 593.751, 285.89099999999996, 281.85099999999994, 511.12100000000004, 614.661, 124.20100000000001, 250.151, 90.04100000000003, 244.80099999999996, 528.0809999999999, 500.4210000000001, 178.96100000000004, 688.331, 290.66099999999994, 118.98100000000001, 306.72099999999995, 656.6310000000001, 155.24099999999999, 603.7509999999997, 80.801, 536.991, 547.0709999999999, 460.64099999999996, 325.91099999999994, 251.871, 342.45099999999996, 144.911, 328.40099999999995, 502.801, 429.84099999999995, 471.5109999999996, 194.881, 373.241, 208.46099999999996, 621.681, 380.55100000000004, 563.2309999999998, 262.681, 308.741, 439.4310000000001, 650.4110000000002, 357.21099999999984, 126.12100000000001, 484.821, 195.36100000000002, 270.901, 586.3309999999998, 380.351, 112.40100000000004, 413.75100000000003, 378.2010000000001, 287.621, 290.16100000000006, 248.611, 606.911, 213.78099999999998, 251.70099999999996, 319.001, 293.101, 206.34099999999998, 114.23100000000001, 335.131, 421.5210000000001, 190.881, 550.061, 314.691, 282.1909999999999, 384.52099999999996, 178.261, 272.44100000000003, 298.41099999999994, 310.6409999999999, 111.98100000000002, 153.92100000000005, 525.2409999999998, 556.9509999999997, 131.78100000000006, 669.1110000000001, 197.6310000000001, 700.8609999999999, 523.111, 363.90099999999995, 160.57099999999994, 537.741, 587.151, 388.14099999999985, 127.86099999999999, 423.8909999999998, 404.661, 199.29100000000003, 336.401, 261.11100000000005, 281.62100000000004, 463.46100000000007, 698.4110000000003, 265.761, 365.761, 216.30100000000002, 541.531, 486.72099999999995, 316.5009999999999, 137.001, 497.56100000000004, 689.1009999999999, 558.9609999999999, 308.481, 723.2109999999998, 652.7410000000001, 578.901, 541.4609999999999, 167.62099999999998, 454.01099999999985, 380.60099999999994, 448.90099999999984, 388.79100000000005, 161.67100000000002, 193.42100000000008, 527.0509999999999, 528.331, 285.561, 547.0609999999999, 166.081, 595.4209999999999, 604.641, 347.7509999999999, 184.40099999999998, 239.411, 385.101, 522.911, 692.1909999999998, 377.44099999999986, 168.241, 287.59099999999995, 712.781, 271.201, 182.771, 323.04099999999994, 546.0409999999998, 387.68099999999987, 398.70099999999996, 350.6409999999999, 110.211, 338.80100000000004, 114.34100000000001, 597.5010000000002, 379.451, 190.19099999999997, 726.051, 110.38100000000001, 191.67099999999994, 366.231, 336.43099999999987, 212.54100000000005, 389.8409999999999, 288.14099999999996, 634.9509999999999, 201.12099999999998, 417.231, 249.7209999999999, 444.681, 166.42100000000002, 120.031, 230.65099999999995, 422.8810000000001, 357.201, 189.40099999999995, 170.161, 306.46099999999996, 396.3310000000001, 343.45099999999996, 223.651, 113.48100000000002, 236.30100000000002, 352.691, 320.72099999999995, 589.4409999999999, 348.7309999999999, 681.9110000000001, 566.5810000000001, 399.1909999999999, 453.40100000000007, 399.651, 382.80099999999993, 517.361, 600.071, 481.751, 621.751, 596.1009999999999, 95.34100000000001, 324.24099999999993, 283.151, 204.001, 175.92100000000002, 335.8609999999999, 178.051]}, {\"boxpoints\": false, \"fillcolor\": \"rgba(207, 114, 255, 0.5)\", \"jitter\": 0.5, \"line\": {\"width\": 1}, \"marker\": {\"size\": 2}, \"name\": \"Cluster 5\", \"type\": \"box\", \"whiskerwidth\": 0.2, \"y\": [397.1209999999999, 293.001, 417.3809999999999, 312.381, 354.091, 135.18099999999995, 311.55099999999993, 380.641, 599.9709999999998, 363.65099999999995, 405.381, 176.971, 415.801, 683.9010000000001, 462.951, 390.54099999999994, 558.701, 535.321, 455.88099999999986, 534.8510000000001, 513.701, 229.47100000000003, 689.9010000000001, 642.771, 516.421, 560.4710000000001, 305.28099999999995, 656.6810000000002, 348.151, 307.531, 346.981, 205.861, 416.081, 477.83099999999996, 350.0609999999999, 501.141, 283.7309999999999, 259.17099999999994, 423.72099999999995, 417.2009999999999, 282.45099999999996, 236.02099999999996, 117.88100000000001, 353.48099999999994, 605.1210000000001, 329.561, 663.6510000000001, 270.401, 600.071, 121.74100000000001, 430.501, 465.68099999999987, 711.411, 292.32099999999986, 557.6210000000001, 590.9309999999999, 361.11099999999993, 371.891, 618.0909999999998, 300.4209999999999, 567.361, 675.3009999999999, 487.02099999999996, 353.431, 389.50100000000003, 233.761, 373.941, 397.98100000000005, 674.701, 609.9510000000001, 439.031, 439.5609999999999, 623.401, 308.281, 378.64099999999996, 222.991, 534.5710000000001, 677.1010000000001, 544.0809999999999, 307.721, 457.34100000000007, 621.2310000000002, 572.4519999999999, 213.55100000000004, 221.06099999999995, 534.241, 283.71099999999996, 296.641, 356.981, 674.6810000000002, 307.901, 422.64099999999996, 229.59099999999998, 300.95099999999996, 454.241, 575.4010000000001, 449.52099999999996, 316.26099999999997, 348.05099999999993, 216.85099999999997, 295.931, 458.521, 251.21099999999998, 659.4409999999998, 307.76099999999997, 483.8010000000001, 270.7910000000001, 631.3410000000001, 192.85100000000006, 239.49100000000004, 294.40099999999995, 142.40100000000004, 396.97099999999995, 219.521, 428.8909999999999, 417.6910000000001, 213.851, 257.23099999999994, 354.8009999999999, 346.60100000000006, 379.651, 305.0209999999998, 349.70100000000014, 486.821, 232.60100000000006, 67.23100000000002, 308.58099999999996, 330.79099999999994, 296.8809999999999, 252.06100000000004, 138.281, 306.551, 610.5909999999999, 339.60099999999994, 350.751, 668.4309999999999, 300.04099999999994, 282.601, 286.79099999999994, 345.0009999999999, 309.041, 688.8610000000002, 558.3209999999997, 324.80099999999993, 277.071, 385.64099999999996, 384.8009999999999, 271.24100000000004, 388.501, 201.161, 305.781, 501.561, 389.601, 540.451, 506.8010000000001, 243.56100000000004, 349.55099999999993, 605.631, 416.90099999999995, 311.16099999999994, 272.041, 351.13100000000003, 678.2509999999999, 348.991, 337.3409999999999, 307.40099999999995, 608.7909999999998, 376.58099999999996, 561.571, 674.4509999999998, 322.96099999999996, 664.5409999999999, 190.2510000000001, 413.59099999999995, 357.98100000000005, 311.301, 635.6610000000001, 529.731, 695.6109999999999, 328.801, 473.02099999999996, 505.18100000000004, 631.9010000000001, 440.001, 327.70099999999996, 467.66099999999994, 626.6509999999998, 147.20100000000005, 141.411, 409.93099999999987, 374.7009999999999, 265.851, 122.47099999999998, 375.10099999999994, 182.25099999999998, 194.901, 216.21099999999998, 386.53099999999995, 709.7109999999996, 637.5010000000001, 483.86099999999993, 605.6409999999998, 311.81100000000004, 446.62100000000004, 621.2910000000002, 289.36100000000005, 122.541, 363.79099999999994, 576.901, 559.4110000000001, 452.89099999999996, 328.1609999999999, 632.401, 683.1709999999999, 490.861, 280.551, 136.77100000000002, 333.971, 492.6509999999999, 437.961, 559.9710000000001, 426.601, 640.141, 383.451, 310.26099999999997, 508.58099999999996, 477.79100000000005, 605.0610000000001, 311.651, 462.66099999999994, 415.20099999999996, 588.2209999999999, 309.52099999999996, 409.57099999999997, 282.9309999999999, 701.231, 257.6809999999999, 617.0509999999999, 202.6810000000001, 487.991, 574.701, 122.70100000000001, 387.52099999999996, 363.341, 470.36099999999993, 483.251, 119.93100000000003, 434.34099999999995, 215.701, 316.2509999999999, 636.5110000000001, 321.92099999999994, 463.38100000000003, 340.931, 538.811, 475.37099999999987, 275.28099999999995, 455.591, 174.371, 171.80100000000002, 355.5610000000001, 388.25099999999986, 289.2409999999999, 165.07100000000005, 324.141, 218.06099999999992, 157.05100000000002, 237.36099999999996, 393.3309999999999, 394.4409999999999, 412.78099999999995, 320.58099999999996, 671.961, 344.90100000000007, 443.601, 693.811, 597.091, 243.22099999999995, 114.18100000000003, 291.0509999999998, 285.74099999999993, 411.53100000000006, 628.3809999999999, 591.551, 188.61099999999996, 187.92099999999996, 313.49099999999993, 328.20099999999996, 563.151, 420.501, 300.52099999999996, 386.1509999999999, 447.6809999999999, 193.1409999999999, 155.43099999999998, 657.8009999999999, 272.0709999999999, 321.43099999999987, 197.131, 309.40099999999995, 325.751, 645.6510000000001, 710.2810000000001, 327.2509999999999, 519.6809999999999, 706.1910000000001, 364.80100000000004, 369.20099999999996, 554.381, 655.7509999999999, 468.77099999999996, 616.1510000000001, 307.481, 290.821, 311.69100000000003, 499.68099999999987, 599.0009999999999, 296.75099999999986, 334.541, 429.87099999999987, 170.041, 266.00099999999986, 469.001, 252.73099999999997, 180.35100000000003, 343.621, 215.781, 306.941, 381.321, 480.71099999999996, 457.8109999999999, 410.481, 319.501, 484.95099999999996, 266.40099999999995, 358.82099999999986, 457.72099999999995, 406.531, 330.111, 259.45099999999996, 623.501, 520.8009999999999, 296.42099999999994, 487.751, 163.00099999999998, 224.14100000000008, 689.4809999999999, 622.8509999999999, 310.62100000000004, 499.32099999999997, 653.2409999999999, 331.181, 328.35099999999994, 322.0809999999999, 409.40100000000007, 429.601, 612.061, 197.001, 321.051, 316.681, 631.571, 514.1510000000001, 300.36100000000005, 623.1610000000001, 254.82100000000003, 393.74100000000004, 135.31100000000004, 290.51099999999997, 180.94099999999997, 496.44099999999986, 574.021, 694.4010000000002, 310.471, 327.971, 570.501, 204.501, 679.6809999999998, 162.2909999999999, 311.71099999999996, 351.6709999999999, 173.97100000000003, 406.0909999999999, 364.501, 252.42100000000005, 473.8109999999998, 326.001, 602.5110000000001, 596.851, 642.411, 394.141, 288.1809999999999, 626.7709999999998, 267.1809999999999, 572.8109999999998, 508.8010000000001, 383.34099999999995, 533.3009999999998, 200.16100000000003, 156.581, 383.6809999999999, 494.641, 179.10100000000003, 447.22100000000006, 237.07100000000003, 216.761, 334.5310000000001, 467.5109999999999, 538.5509999999999, 371.561, 454.1109999999998, 233.81100000000006, 147.09100000000004, 492.36099999999993, 267.031, 412.0109999999999, 229.33099999999993, 536.4009999999998, 110.92100000000003, 85.13100000000003, 127.86099999999999, 292.7209999999999, 437.2309999999998, 217.201, 258.8809999999998, 348.6009999999999, 455.30100000000004, 478.53099999999995, 240.681, 216.39100000000002, 298.481, 301.03099999999995, 588.1310000000001, 675.801, 223.36100000000002, 425.3209999999999, 664.0010000000002, 447.6409999999999, 657.3509999999999, 337.741, 560.6709999999999, 386.431, 323.691, 657.231, 352.701, 409.98100000000005, 696.6809999999996, 356.70099999999996, 203.101, 294.1209999999999, 196.88099999999997, 458.57099999999997, 583.751, 315.0609999999999, 621.831, 270.801, 241.62100000000004, 475.281, 351.301, 610.0110000000001, 206.98100000000002, 532.941, 636.141, 391.98099999999994, 355.561, 160.711, 110.80100000000002, 230.53099999999995, 343.28099999999995, 501.39099999999996, 516.3609999999999, 379.35099999999994, 446.87099999999975, 524.521, 263.55099999999993, 222.05100000000002, 264.621, 334.231, 167.50099999999998, 336.031, 369.50100000000003, 127.08100000000003, 426.63100000000014, 416.8610000000001, 404.58099999999996, 337.4409999999999, 314.101, 371.01099999999997, 430.94099999999975, 427.071, 407.5009999999999, 628.2810000000001, 331.24100000000004, 437.7009999999999, 362.06100000000004, 335.321, 372.09100000000007, 584.3209999999999, 436.1809999999999, 315.06100000000004, 320.621, 302.361, 336.96099999999996, 611.881, 195.741, 161.38100000000003, 612.7810000000001, 232.211, 684.4209999999999, 307.78099999999995, 289.351, 517.5509999999998, 709.3810000000002, 620.401, 535.3410000000001, 375.001, 348.2010000000001, 331.95099999999996, 305.54100000000005, 338.71100000000007, 314.45099999999996, 400.68199999999996, 365.271, 592.901, 547.021, 242.35100000000003, 304.251, 542.031, 536.6809999999999, 432.2009999999999, 414.20099999999996, 389.44100000000003, 667.6509999999998, 411.7010000000001, 357.9509999999999, 559.8709999999999, 566.3809999999999, 302.251, 301.901, 361.2209999999999, 632.2710000000001, 706.5710000000001, 226.371, 428.68099999999976, 322.411, 395.80099999999993, 211.771, 362.951, 584.5009999999999, 555.8909999999998, 221.19100000000006, 303.931, 299.60099999999994, 443.0510000000001, 151.83100000000002, 262.201, 302.7009999999999, 642.8109999999999, 381.20099999999996, 259.0109999999998, 188.891, 707.6909999999998, 311.921, 266.971, 151.421, 223.951, 316.111, 544.3009999999999, 139.35100000000003, 404.30100000000004, 363.65099999999995, 365.45099999999996, 363.70099999999996, 248.10100000000003, 162.70100000000005, 484.32100000000014, 290.36099999999993, 228.06100000000004, 455.251, 548.971, 379.73099999999994, 663.6109999999998, 451.44099999999975, 233.45100000000002, 463.95099999999996, 225.15099999999995, 459.2409999999999, 330.0309999999999, 181.09099999999998, 360.1610000000003, 482.471, 618.591, 506.1909999999999, 226.211, 333.081, 322.801, 417.7309999999998, 487.51099999999997, 214.061, 518.421, 601.2709999999998, 570.1309999999997, 324.241, 422.60099999999994, 482.0109999999998, 657.901, 112.75100000000002, 301.72099999999995, 623.7510000000002, 292.47099999999995, 589.151, 272.8209999999999, 323.00100000000003, 223.921, 239.401, 369.34099999999995, 316.6209999999999, 611.8510000000001, 478.09099999999984, 380.39099999999985, 171.591, 661.5210000000001, 388.2809999999999, 226.35100000000006, 245.941, 425.1909999999999, 311.2509999999999, 243.84099999999998, 414.88100000000003, 305.621, 332.30099999999993, 460.59099999999984, 288.421, 309.54099999999994, 479.35100000000006, 417.06100000000004, 497.61100000000005, 358.3809999999999, 341.701, 413.461, 588.8510000000001, 281.421, 332.41099999999994, 375.69100000000003, 680.021, 705.1209999999998, 276.73099999999994, 145.93100000000004, 219.14099999999996, 289.78100000000006, 379.141, 391.5210000000001, 169.79100000000005, 230.25100000000003, 161.941, 406.4810000000001, 435.02099999999996, 167.61100000000002, 518.6709999999999, 416.64099999999996, 234.171, 201.191, 319.0209999999999, 344.33099999999996, 384.061, 702.001, 433.53099999999995, 449.7309999999999, 339.441, 642.0209999999998, 247.141, 498.48099999999994, 538.371, 312.1409999999999, 302.0009999999999, 665.7810000000004, 307.46099999999996, 298.891, 259.35099999999994, 425.0009999999999, 380.501, 465.32099999999997, 579.001, 329.341, 224.91099999999997, 317.76099999999997, 306.131, 711.7909999999999, 239.92099999999996, 384.4009999999999, 444.741, 262.621, 342.631, 384.08099999999996, 354.15099999999995, 426.7909999999998, 393.49099999999993, 318.761, 382.50100000000003, 318.651, 283.28099999999995, 353.8609999999999, 240.00099999999998, 603.3709999999998, 562.9009999999997, 317.6209999999999, 246.04100000000008, 498.421, 250.04099999999994, 644.3009999999999, 494.2509999999999, 307.021, 193.64099999999996, 178.22099999999998, 365.85099999999983, 488.20099999999996, 312.23099999999994, 168.401, 446.181, 495.7709999999999, 400.10099999999983, 203.201, 457.911, 653.3809999999999, 507.8409999999999, 598.8310000000001, 524.9210000000002, 403.30100000000004, 303.161, 388.451, 517.5310000000002, 249.861, 622.4309999999998, 675.6909999999999, 511.82099999999997, 414.041, 396.87100000000004, 376.6409999999999, 374.57099999999997, 272.22099999999995, 622.881, 288.60099999999994, 302.20099999999996, 605.5809999999999, 208.651, 546.811, 422.701, 296.701, 170.751, 267.1610000000001, 306.84099999999995, 344.1409999999999, 215.72100000000003, 175.27100000000002, 394.721, 309.361, 329.601, 218.52100000000004, 503.60099999999983, 117.55099999999999, 196.001, 551.041, 298.11099999999993, 290.401, 200.471, 283.12100000000004, 338.951, 417.951, 267.081, 303.971, 700.631, 355.111, 674.5209999999998, 371.8809999999999, 245.811, 283.47099999999966, 278.741, 225.901, 350.39099999999985, 512.3109999999999, 298.40099999999995, 155.3710000000001, 205.48100000000002, 605.8009999999999, 311.26099999999997, 208.97099999999998, 148.211, 252.801, 330.90099999999995, 428.18099999999987, 683.4610000000002, 458.9209999999998, 203.871, 602.0910000000005, 203.86099999999993, 244.10100000000003, 566.6009999999999, 152.061, 155.801, 243.2809999999999, 311.011, 411.601, 397.291, 408.361, 704.251, 145.791, 149.58100000000002, 482.20099999999996, 557.3009999999999, 111.68099999999998, 102.83099999999999, 123.07100000000003, 277.35099999999994, 228.201, 582.5909999999999, 136.041, 337.041, 353.1909999999999, 300.92099999999994, 152.68100000000007, 630.841, 678.4910000000001, 169.47099999999998, 257.341, 102.79100000000001, 187.29100000000005, 122.14099999999996, 389.781, 115.31099999999999, 97.97100000000005, 300.021, 363.65099999999995, 453.001, 247.441, 489.601, 336.131, 689.951, 167.67099999999996, 580.0509999999999, 168.31100000000004, 430.70099999999985, 271.001, 220.101, 181.12099999999998, 673.1010000000001, 206.83100000000007, 612.081, 653.3509999999999, 371.62100000000004, 530.1510000000002, 638.0610000000001, 476.35099999999994, 632.071, 304.251, 284.46099999999996, 243.76100000000005, 163.80100000000002, 160.42100000000002, 248.42099999999994, 232.48100000000002, 299.341, 662.081, 443.001, 592.971, 349.271]}],\n",
              "                        {\"margin\": {\"b\": 80, \"l\": 40, \"r\": 30, \"t\": 100}, \"paper_bgcolor\": \"white\", \"plot_bgcolor\": \"white\", \"showlegend\": false, \"template\": {\"data\": {\"bar\": [{\"error_x\": {\"color\": \"#2a3f5f\"}, \"error_y\": {\"color\": \"#2a3f5f\"}, \"marker\": {\"line\": {\"color\": \"#E5ECF6\", \"width\": 0.5}}, \"type\": \"bar\"}], \"barpolar\": [{\"marker\": {\"line\": {\"color\": \"#E5ECF6\", \"width\": 0.5}}, \"type\": \"barpolar\"}], \"carpet\": [{\"aaxis\": {\"endlinecolor\": \"#2a3f5f\", \"gridcolor\": \"white\", \"linecolor\": \"white\", \"minorgridcolor\": \"white\", \"startlinecolor\": \"#2a3f5f\"}, \"baxis\": {\"endlinecolor\": \"#2a3f5f\", \"gridcolor\": \"white\", \"linecolor\": \"white\", \"minorgridcolor\": \"white\", \"startlinecolor\": \"#2a3f5f\"}, \"type\": \"carpet\"}], \"choropleth\": [{\"colorbar\": {\"outlinewidth\": 0, \"ticks\": \"\"}, \"type\": \"choropleth\"}], \"contour\": [{\"colorbar\": {\"outlinewidth\": 0, \"ticks\": \"\"}, \"colorscale\": [[0.0, \"#0d0887\"], [0.1111111111111111, \"#46039f\"], [0.2222222222222222, \"#7201a8\"], [0.3333333333333333, \"#9c179e\"], [0.4444444444444444, \"#bd3786\"], [0.5555555555555556, \"#d8576b\"], [0.6666666666666666, \"#ed7953\"], [0.7777777777777778, \"#fb9f3a\"], [0.8888888888888888, \"#fdca26\"], [1.0, \"#f0f921\"]], \"type\": \"contour\"}], \"contourcarpet\": [{\"colorbar\": {\"outlinewidth\": 0, \"ticks\": \"\"}, \"type\": \"contourcarpet\"}], \"heatmap\": [{\"colorbar\": {\"outlinewidth\": 0, \"ticks\": \"\"}, \"colorscale\": [[0.0, \"#0d0887\"], [0.1111111111111111, \"#46039f\"], [0.2222222222222222, \"#7201a8\"], [0.3333333333333333, \"#9c179e\"], [0.4444444444444444, \"#bd3786\"], [0.5555555555555556, \"#d8576b\"], [0.6666666666666666, \"#ed7953\"], [0.7777777777777778, \"#fb9f3a\"], [0.8888888888888888, \"#fdca26\"], [1.0, \"#f0f921\"]], \"type\": \"heatmap\"}], \"heatmapgl\": [{\"colorbar\": {\"outlinewidth\": 0, \"ticks\": \"\"}, \"colorscale\": [[0.0, \"#0d0887\"], [0.1111111111111111, \"#46039f\"], [0.2222222222222222, \"#7201a8\"], [0.3333333333333333, \"#9c179e\"], [0.4444444444444444, \"#bd3786\"], [0.5555555555555556, \"#d8576b\"], [0.6666666666666666, \"#ed7953\"], [0.7777777777777778, \"#fb9f3a\"], [0.8888888888888888, \"#fdca26\"], [1.0, \"#f0f921\"]], \"type\": \"heatmapgl\"}], \"histogram\": [{\"marker\": {\"colorbar\": {\"outlinewidth\": 0, \"ticks\": \"\"}}, \"type\": \"histogram\"}], \"histogram2d\": [{\"colorbar\": {\"outlinewidth\": 0, \"ticks\": \"\"}, \"colorscale\": [[0.0, \"#0d0887\"], [0.1111111111111111, \"#46039f\"], [0.2222222222222222, \"#7201a8\"], [0.3333333333333333, \"#9c179e\"], [0.4444444444444444, \"#bd3786\"], [0.5555555555555556, \"#d8576b\"], [0.6666666666666666, \"#ed7953\"], [0.7777777777777778, \"#fb9f3a\"], [0.8888888888888888, \"#fdca26\"], [1.0, \"#f0f921\"]], \"type\": \"histogram2d\"}], \"histogram2dcontour\": [{\"colorbar\": {\"outlinewidth\": 0, \"ticks\": \"\"}, \"colorscale\": [[0.0, \"#0d0887\"], [0.1111111111111111, \"#46039f\"], [0.2222222222222222, \"#7201a8\"], [0.3333333333333333, \"#9c179e\"], [0.4444444444444444, \"#bd3786\"], [0.5555555555555556, \"#d8576b\"], [0.6666666666666666, \"#ed7953\"], [0.7777777777777778, \"#fb9f3a\"], [0.8888888888888888, \"#fdca26\"], [1.0, \"#f0f921\"]], \"type\": \"histogram2dcontour\"}], \"mesh3d\": [{\"colorbar\": {\"outlinewidth\": 0, \"ticks\": \"\"}, \"type\": \"mesh3d\"}], \"parcoords\": [{\"line\": {\"colorbar\": {\"outlinewidth\": 0, \"ticks\": \"\"}}, \"type\": \"parcoords\"}], \"pie\": [{\"automargin\": true, \"type\": \"pie\"}], \"scatter\": [{\"marker\": {\"colorbar\": {\"outlinewidth\": 0, \"ticks\": \"\"}}, \"type\": \"scatter\"}], \"scatter3d\": [{\"line\": {\"colorbar\": {\"outlinewidth\": 0, \"ticks\": \"\"}}, \"marker\": {\"colorbar\": {\"outlinewidth\": 0, \"ticks\": \"\"}}, \"type\": \"scatter3d\"}], \"scattercarpet\": [{\"marker\": {\"colorbar\": {\"outlinewidth\": 0, \"ticks\": \"\"}}, \"type\": \"scattercarpet\"}], \"scattergeo\": [{\"marker\": {\"colorbar\": {\"outlinewidth\": 0, \"ticks\": \"\"}}, \"type\": \"scattergeo\"}], \"scattergl\": [{\"marker\": {\"colorbar\": {\"outlinewidth\": 0, \"ticks\": \"\"}}, \"type\": \"scattergl\"}], \"scattermapbox\": [{\"marker\": {\"colorbar\": {\"outlinewidth\": 0, \"ticks\": \"\"}}, \"type\": \"scattermapbox\"}], \"scatterpolar\": [{\"marker\": {\"colorbar\": {\"outlinewidth\": 0, \"ticks\": \"\"}}, \"type\": \"scatterpolar\"}], \"scatterpolargl\": [{\"marker\": {\"colorbar\": {\"outlinewidth\": 0, \"ticks\": \"\"}}, \"type\": \"scatterpolargl\"}], \"scatterternary\": [{\"marker\": {\"colorbar\": {\"outlinewidth\": 0, \"ticks\": \"\"}}, \"type\": \"scatterternary\"}], \"surface\": [{\"colorbar\": {\"outlinewidth\": 0, \"ticks\": \"\"}, \"colorscale\": [[0.0, \"#0d0887\"], [0.1111111111111111, \"#46039f\"], [0.2222222222222222, \"#7201a8\"], [0.3333333333333333, \"#9c179e\"], [0.4444444444444444, \"#bd3786\"], [0.5555555555555556, \"#d8576b\"], [0.6666666666666666, \"#ed7953\"], [0.7777777777777778, \"#fb9f3a\"], [0.8888888888888888, \"#fdca26\"], [1.0, \"#f0f921\"]], \"type\": \"surface\"}], \"table\": [{\"cells\": {\"fill\": {\"color\": \"#EBF0F8\"}, \"line\": {\"color\": \"white\"}}, \"header\": {\"fill\": {\"color\": \"#C8D4E3\"}, \"line\": {\"color\": \"white\"}}, \"type\": \"table\"}]}, \"layout\": {\"annotationdefaults\": {\"arrowcolor\": \"#2a3f5f\", \"arrowhead\": 0, \"arrowwidth\": 1}, \"coloraxis\": {\"colorbar\": {\"outlinewidth\": 0, \"ticks\": \"\"}}, \"colorscale\": {\"diverging\": [[0, \"#8e0152\"], [0.1, \"#c51b7d\"], [0.2, \"#de77ae\"], [0.3, \"#f1b6da\"], [0.4, \"#fde0ef\"], [0.5, \"#f7f7f7\"], [0.6, \"#e6f5d0\"], [0.7, \"#b8e186\"], [0.8, \"#7fbc41\"], [0.9, \"#4d9221\"], [1, \"#276419\"]], \"sequential\": [[0.0, \"#0d0887\"], [0.1111111111111111, \"#46039f\"], [0.2222222222222222, \"#7201a8\"], [0.3333333333333333, \"#9c179e\"], [0.4444444444444444, \"#bd3786\"], [0.5555555555555556, \"#d8576b\"], [0.6666666666666666, \"#ed7953\"], [0.7777777777777778, \"#fb9f3a\"], [0.8888888888888888, \"#fdca26\"], [1.0, \"#f0f921\"]], \"sequentialminus\": [[0.0, \"#0d0887\"], [0.1111111111111111, \"#46039f\"], [0.2222222222222222, \"#7201a8\"], [0.3333333333333333, \"#9c179e\"], [0.4444444444444444, \"#bd3786\"], [0.5555555555555556, \"#d8576b\"], [0.6666666666666666, \"#ed7953\"], [0.7777777777777778, \"#fb9f3a\"], [0.8888888888888888, \"#fdca26\"], [1.0, \"#f0f921\"]]}, \"colorway\": [\"#636efa\", \"#EF553B\", \"#00cc96\", \"#ab63fa\", \"#FFA15A\", \"#19d3f3\", \"#FF6692\", \"#B6E880\", \"#FF97FF\", \"#FECB52\"], \"font\": {\"color\": \"#2a3f5f\"}, \"geo\": {\"bgcolor\": \"white\", \"lakecolor\": \"white\", \"landcolor\": \"#E5ECF6\", \"showlakes\": true, \"showland\": true, \"subunitcolor\": \"white\"}, \"hoverlabel\": {\"align\": \"left\"}, \"hovermode\": \"closest\", \"mapbox\": {\"style\": \"light\"}, \"paper_bgcolor\": \"white\", \"plot_bgcolor\": \"#E5ECF6\", \"polar\": {\"angularaxis\": {\"gridcolor\": \"white\", \"linecolor\": \"white\", \"ticks\": \"\"}, \"bgcolor\": \"#E5ECF6\", \"radialaxis\": {\"gridcolor\": \"white\", \"linecolor\": \"white\", \"ticks\": \"\"}}, \"scene\": {\"xaxis\": {\"backgroundcolor\": \"#E5ECF6\", \"gridcolor\": \"white\", \"gridwidth\": 2, \"linecolor\": \"white\", \"showbackground\": true, \"ticks\": \"\", \"zerolinecolor\": \"white\"}, \"yaxis\": {\"backgroundcolor\": \"#E5ECF6\", \"gridcolor\": \"white\", \"gridwidth\": 2, \"linecolor\": \"white\", \"showbackground\": true, \"ticks\": \"\", \"zerolinecolor\": \"white\"}, \"zaxis\": {\"backgroundcolor\": \"#E5ECF6\", \"gridcolor\": \"white\", \"gridwidth\": 2, \"linecolor\": \"white\", \"showbackground\": true, \"ticks\": \"\", \"zerolinecolor\": \"white\"}}, \"shapedefaults\": {\"line\": {\"color\": \"#2a3f5f\"}}, \"ternary\": {\"aaxis\": {\"gridcolor\": \"white\", \"linecolor\": \"white\", \"ticks\": \"\"}, \"baxis\": {\"gridcolor\": \"white\", \"linecolor\": \"white\", \"ticks\": \"\"}, \"bgcolor\": \"#E5ECF6\", \"caxis\": {\"gridcolor\": \"white\", \"linecolor\": \"white\", \"ticks\": \"\"}}, \"title\": {\"x\": 0.05}, \"xaxis\": {\"automargin\": true, \"gridcolor\": \"white\", \"linecolor\": \"white\", \"ticks\": \"\", \"title\": {\"standoff\": 15}, \"zerolinecolor\": \"white\", \"zerolinewidth\": 2}, \"yaxis\": {\"automargin\": true, \"gridcolor\": \"white\", \"linecolor\": \"white\", \"ticks\": \"\", \"title\": {\"standoff\": 15}, \"zerolinecolor\": \"white\", \"zerolinewidth\": 2}}}, \"title\": {\"text\": \"Difference in sales amount from cluster to cluster.\"}, \"yaxis\": {\"autorange\": true, \"gridcolor\": \"black\", \"zeroline\": true, \"zerolinecolor\": \"yellow\", \"zerolinewidth\": 2}},\n",
              "                        {\"responsive\": true}\n",
              "                    ).then(function(){\n",
              "                            \n",
              "var gd = document.getElementById('426f4d3f-3643-4679-ae0a-98a20726a638');\n",
              "var x = new MutationObserver(function (mutations, observer) {{\n",
              "        var display = window.getComputedStyle(gd).display;\n",
              "        if (!display || display === 'none') {{\n",
              "            console.log([gd, 'removed!']);\n",
              "            Plotly.purge(gd);\n",
              "            observer.disconnect();\n",
              "        }}\n",
              "}});\n",
              "\n",
              "// Listen for the removal of the full notebook cells\n",
              "var notebookContainer = gd.closest('#notebook-container');\n",
              "if (notebookContainer) {{\n",
              "    x.observe(notebookContainer, {childList: true});\n",
              "}}\n",
              "\n",
              "// Listen for the clearing of the current output cell\n",
              "var outputEl = gd.closest('.output');\n",
              "if (outputEl) {{\n",
              "    x.observe(outputEl, {childList: true});\n",
              "}}\n",
              "\n",
              "                        })\n",
              "                };\n",
              "                \n",
              "            </script>\n",
              "        </div>\n",
              "</body>\n",
              "</html>"
            ]
          },
          "metadata": {
            "tags": []
          }
        }
      ]
    },
    {
      "cell_type": "code",
      "metadata": {
        "id": "0mV7L_yJjkKg"
      },
      "source": [
        ""
      ],
      "execution_count": 37,
      "outputs": []
    }
  ]
}