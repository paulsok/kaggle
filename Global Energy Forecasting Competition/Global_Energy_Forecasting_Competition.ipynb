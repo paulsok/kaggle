{
  "nbformat": 4,
  "nbformat_minor": 0,
  "metadata": {
    "colab": {
      "name": "Global_Energy_Forecasting_Competition.ipynb",
      "provenance": [],
      "collapsed_sections": []
    },
    "kernelspec": {
      "name": "python3",
      "display_name": "Python 3"
    },
    "language_info": {
      "name": "python"
    }
  },
  "cells": [
    {
      "cell_type": "code",
      "metadata": {
        "colab": {
          "base_uri": "https://localhost:8080/"
        },
        "id": "7P2wI2HoqS80",
        "outputId": "f36094c3-1bd5-4f4f-ad7b-d8706c028a2c"
      },
      "source": [
        "# microsoft azure deep learning for time series forecasting\n",
        "!git clone https://github.com/paulsok/DeepLearningForTimeSeriesForecasting"
      ],
      "execution_count": null,
      "outputs": [
        {
          "output_type": "stream",
          "text": [
            "Cloning into 'DeepLearningForTimeSeriesForecasting'...\n",
            "remote: Enumerating objects: 487, done.\u001b[K\n",
            "remote: Counting objects: 100% (7/7), done.\u001b[K\n",
            "remote: Compressing objects: 100% (7/7), done.\u001b[K\n",
            "remote: Total 487 (delta 1), reused 1 (delta 0), pack-reused 480\u001b[K\n",
            "Receiving objects: 100% (487/487), 46.39 MiB | 29.47 MiB/s, done.\n",
            "Resolving deltas: 100% (230/230), done.\n"
          ],
          "name": "stdout"
        }
      ]
    },
    {
      "cell_type": "code",
      "metadata": {
        "id": "0BpqY4feqryH"
      },
      "source": [
        "# import necessary Python packages\n",
        "import os\n",
        "import pandas as pd\n",
        "import numpy as np\n",
        "\n",
        "from DeepLearningForTimeSeriesForecasting.common.utils import load_data\n",
        "from DeepLearningForTimeSeriesForecasting.common.extract_data import extract_data"
      ],
      "execution_count": null,
      "outputs": []
    },
    {
      "cell_type": "code",
      "metadata": {
        "id": "JD590vjkpKrp"
      },
      "source": [
        " # adjust the format of the data set\n",
        "pd.options.display.float_format = '{:,.2f}'.format\n",
        "np.set_printoptions(precision=2)"
      ],
      "execution_count": null,
      "outputs": []
    },
    {
      "cell_type": "code",
      "metadata": {
        "colab": {
          "base_uri": "https://localhost:8080/"
        },
        "id": "ju749myKy-OF",
        "outputId": "d7fb4b2e-a99d-4a6c-a246-9dea446e2349"
      },
      "source": [
        "# download ts_data set\n",
        "# change the name of the directory with your folder name\n",
        "!mkdir /content/energy\n",
        "data_dir = '/content/energy/'\n",
        "\n",
        "if not os.path.exists(os.path.join(data_dir, 'energy.csv')):\n",
        "      # download and move the zip file\n",
        "      !wget https://mlftsfwp.blob.core.windows.net/mlftsfwp/GEFCom2014.zip\n",
        "      !mv GEFCom2014.zip /content/energy/\n",
        "      # if not done already, extract zipped data and save as csv\n",
        "      extract_data(data_dir)"
      ],
      "execution_count": null,
      "outputs": [
        {
          "output_type": "stream",
          "text": [
            "--2021-08-04 16:05:46--  https://mlftsfwp.blob.core.windows.net/mlftsfwp/GEFCom2014.zip\n",
            "Resolving mlftsfwp.blob.core.windows.net (mlftsfwp.blob.core.windows.net)... 52.239.155.196\n",
            "Connecting to mlftsfwp.blob.core.windows.net (mlftsfwp.blob.core.windows.net)|52.239.155.196|:443... connected.\n",
            "HTTP request sent, awaiting response... 200 OK\n",
            "Length: 126360077 (121M) [application/x-zip-compressed]\n",
            "Saving to: ‘GEFCom2014.zip’\n",
            "\n",
            "GEFCom2014.zip      100%[===================>] 120.51M  44.4MB/s    in 2.7s    \n",
            "\n",
            "2021-08-04 16:05:49 (44.4 MB/s) - ‘GEFCom2014.zip’ saved [126360077/126360077]\n",
            "\n"
          ],
          "name": "stdout"
        }
      ]
    },
    {
      "cell_type": "code",
      "metadata": {
        "colab": {
          "base_uri": "https://localhost:8080/",
          "height": 204
        },
        "id": "kOSsODp_pK1S",
        "outputId": "74393f3a-2852-40a3-a8db-c35a5b53d036"
      },
      "source": [
        "# load the data from csv into a pandas dataframe\n",
        "ts_data_load = load_data(data_dir)[['load']]\n",
        "ts_data_load.head()"
      ],
      "execution_count": null,
      "outputs": [
        {
          "output_type": "execute_result",
          "data": {
            "text/html": [
              "<div>\n",
              "<style scoped>\n",
              "    .dataframe tbody tr th:only-of-type {\n",
              "        vertical-align: middle;\n",
              "    }\n",
              "\n",
              "    .dataframe tbody tr th {\n",
              "        vertical-align: top;\n",
              "    }\n",
              "\n",
              "    .dataframe thead th {\n",
              "        text-align: right;\n",
              "    }\n",
              "</style>\n",
              "<table border=\"1\" class=\"dataframe\">\n",
              "  <thead>\n",
              "    <tr style=\"text-align: right;\">\n",
              "      <th></th>\n",
              "      <th>load</th>\n",
              "    </tr>\n",
              "  </thead>\n",
              "  <tbody>\n",
              "    <tr>\n",
              "      <th>2012-01-01 00:00:00</th>\n",
              "      <td>2,698.00</td>\n",
              "    </tr>\n",
              "    <tr>\n",
              "      <th>2012-01-01 01:00:00</th>\n",
              "      <td>2,558.00</td>\n",
              "    </tr>\n",
              "    <tr>\n",
              "      <th>2012-01-01 02:00:00</th>\n",
              "      <td>2,444.00</td>\n",
              "    </tr>\n",
              "    <tr>\n",
              "      <th>2012-01-01 03:00:00</th>\n",
              "      <td>2,402.00</td>\n",
              "    </tr>\n",
              "    <tr>\n",
              "      <th>2012-01-01 04:00:00</th>\n",
              "      <td>2,403.00</td>\n",
              "    </tr>\n",
              "  </tbody>\n",
              "</table>\n",
              "</div>"
            ],
            "text/plain": [
              "                        load\n",
              "2012-01-01 00:00:00 2,698.00\n",
              "2012-01-01 01:00:00 2,558.00\n",
              "2012-01-01 02:00:00 2,444.00\n",
              "2012-01-01 03:00:00 2,402.00\n",
              "2012-01-01 04:00:00 2,403.00"
            ]
          },
          "metadata": {
            "tags": []
          },
          "execution_count": 6
        }
      ]
    },
    {
      "cell_type": "code",
      "metadata": {
        "id": "5qBu2oskpK5b",
        "colab": {
          "base_uri": "https://localhost:8080/"
        },
        "outputId": "020df181-4998-4670-f6b8-4009d1bc59cb"
      },
      "source": [
        "ts_data_load.index"
      ],
      "execution_count": null,
      "outputs": [
        {
          "output_type": "execute_result",
          "data": {
            "text/plain": [
              "DatetimeIndex(['2012-01-01 00:00:00', '2012-01-01 01:00:00',\n",
              "               '2012-01-01 02:00:00', '2012-01-01 03:00:00',\n",
              "               '2012-01-01 04:00:00', '2012-01-01 05:00:00',\n",
              "               '2012-01-01 06:00:00', '2012-01-01 07:00:00',\n",
              "               '2012-01-01 08:00:00', '2012-01-01 09:00:00',\n",
              "               ...\n",
              "               '2014-12-31 14:00:00', '2014-12-31 15:00:00',\n",
              "               '2014-12-31 16:00:00', '2014-12-31 17:00:00',\n",
              "               '2014-12-31 18:00:00', '2014-12-31 19:00:00',\n",
              "               '2014-12-31 20:00:00', '2014-12-31 21:00:00',\n",
              "               '2014-12-31 22:00:00', '2014-12-31 23:00:00'],\n",
              "              dtype='datetime64[ns]', length=26304, freq='H')"
            ]
          },
          "metadata": {
            "tags": []
          },
          "execution_count": 7
        }
      ]
    },
    {
      "cell_type": "code",
      "metadata": {
        "id": "sYKLevMo6mbg"
      },
      "source": [
        ""
      ],
      "execution_count": null,
      "outputs": []
    }
  ]
}