{
  "nbformat": 4,
  "nbformat_minor": 0,
  "metadata": {
    "colab": {
      "name": "Global_Energy_Forecasting_Competition.ipynb",
      "provenance": [],
      "collapsed_sections": []
    },
    "kernelspec": {
      "name": "python3",
      "display_name": "Python 3"
    },
    "language_info": {
      "name": "python"
    }
  },
  "cells": [
    {
      "cell_type": "code",
      "metadata": {
        "colab": {
          "base_uri": "https://localhost:8080/"
        },
        "id": "7P2wI2HoqS80",
        "outputId": "a9d85401-4237-4939-dd5c-ee9c4e493318"
      },
      "source": [
        "# microsoft azure deep learning for time series forecasting\n",
        "!git clone https://github.com/paulsok/DeepLearningForTimeSeriesForecasting"
      ],
      "execution_count": null,
      "outputs": [
        {
          "output_type": "stream",
          "text": [
            "Cloning into 'DeepLearningForTimeSeriesForecasting'...\n",
            "remote: Enumerating objects: 487, done.\u001b[K\n",
            "remote: Counting objects: 100% (7/7), done.\u001b[K\n",
            "remote: Compressing objects: 100% (7/7), done.\u001b[K\n",
            "remote: Total 487 (delta 1), reused 1 (delta 0), pack-reused 480\u001b[K\n",
            "Receiving objects: 100% (487/487), 46.39 MiB | 30.81 MiB/s, done.\n",
            "Resolving deltas: 100% (230/230), done.\n"
          ],
          "name": "stdout"
        }
      ]
    },
    {
      "cell_type": "code",
      "metadata": {
        "id": "0BpqY4feqryH",
        "colab": {
          "base_uri": "https://localhost:8080/"
        },
        "outputId": "9b36dd94-3e04-4b5e-a15b-c50fcfd79c9c"
      },
      "source": [
        "# import necessary packages\n",
        "import os\n",
        "import pandas as pd\n",
        "import numpy as np\n",
        "\n",
        "import statsmodels.api as sm\n",
        "import warnings\n",
        "import matplotlib.pyplot as plt\n",
        "import matplotlib.dates as mdates\n",
        "\n",
        "from sklearn.preprocessing import StandardScaler\n",
        "from math import sqrt\n",
        "\n",
        "%matplotlib inline\n",
        "warnings.filterwarnings(\"ignore\")\n",
        "\n",
        "from DeepLearningForTimeSeriesForecasting.common.utils import load_data\n",
        "from DeepLearningForTimeSeriesForecasting.common.extract_data import extract_data"
      ],
      "execution_count": null,
      "outputs": [
        {
          "output_type": "stream",
          "text": [
            "/usr/local/lib/python3.7/dist-packages/statsmodels/tools/_testing.py:19: FutureWarning: pandas.util.testing is deprecated. Use the functions in the public API at pandas.testing instead.\n",
            "  import pandas.util.testing as tm\n"
          ],
          "name": "stderr"
        }
      ]
    },
    {
      "cell_type": "code",
      "metadata": {
        "id": "JD590vjkpKrp"
      },
      "source": [
        " # adjust the format of the data set\n",
        "pd.options.display.float_format = '{:,.2f}'.format\n",
        "np.set_printoptions(precision=2)"
      ],
      "execution_count": null,
      "outputs": []
    },
    {
      "cell_type": "code",
      "metadata": {
        "colab": {
          "base_uri": "https://localhost:8080/"
        },
        "id": "ju749myKy-OF",
        "outputId": "6e93b3d2-a619-476b-9314-63bcaf8884a5"
      },
      "source": [
        "# download ts_data set\n",
        "# change the name of the directory with your folder name\n",
        "!mkdir /content/energy\n",
        "data_dir = '/content/energy/'\n",
        "\n",
        "if not os.path.exists(os.path.join(data_dir, 'energy.csv')):\n",
        "      # download and move the zip file\n",
        "      !wget https://mlftsfwp.blob.core.windows.net/mlftsfwp/GEFCom2014.zip\n",
        "      !mv GEFCom2014.zip /content/energy/\n",
        "      # if not done already, extract zipped data and save as csv\n",
        "      extract_data(data_dir)"
      ],
      "execution_count": null,
      "outputs": [
        {
          "output_type": "stream",
          "text": [
            "--2021-08-06 10:34:38--  https://mlftsfwp.blob.core.windows.net/mlftsfwp/GEFCom2014.zip\n",
            "Resolving mlftsfwp.blob.core.windows.net (mlftsfwp.blob.core.windows.net)... 52.239.155.196\n",
            "Connecting to mlftsfwp.blob.core.windows.net (mlftsfwp.blob.core.windows.net)|52.239.155.196|:443... connected.\n",
            "HTTP request sent, awaiting response... 200 OK\n",
            "Length: 126360077 (121M) [application/x-zip-compressed]\n",
            "Saving to: ‘GEFCom2014.zip’\n",
            "\n",
            "GEFCom2014.zip      100%[===================>] 120.51M  44.5MB/s    in 2.7s    \n",
            "\n",
            "2021-08-06 10:34:41 (44.5 MB/s) - ‘GEFCom2014.zip’ saved [126360077/126360077]\n",
            "\n"
          ],
          "name": "stdout"
        }
      ]
    },
    {
      "cell_type": "code",
      "metadata": {
        "colab": {
          "base_uri": "https://localhost:8080/",
          "height": 359
        },
        "id": "kOSsODp_pK1S",
        "outputId": "97eccf23-99f5-45fd-f4de-d6e8c4b9ee41"
      },
      "source": [
        "# load the data from csv into a pandas dataframe\n",
        "ts_data_load = load_data(data_dir)\n",
        "ts_data_load.head(10)"
      ],
      "execution_count": null,
      "outputs": [
        {
          "output_type": "execute_result",
          "data": {
            "text/html": [
              "<div>\n",
              "<style scoped>\n",
              "    .dataframe tbody tr th:only-of-type {\n",
              "        vertical-align: middle;\n",
              "    }\n",
              "\n",
              "    .dataframe tbody tr th {\n",
              "        vertical-align: top;\n",
              "    }\n",
              "\n",
              "    .dataframe thead th {\n",
              "        text-align: right;\n",
              "    }\n",
              "</style>\n",
              "<table border=\"1\" class=\"dataframe\">\n",
              "  <thead>\n",
              "    <tr style=\"text-align: right;\">\n",
              "      <th></th>\n",
              "      <th>load</th>\n",
              "      <th>temp</th>\n",
              "    </tr>\n",
              "  </thead>\n",
              "  <tbody>\n",
              "    <tr>\n",
              "      <th>2012-01-01 00:00:00</th>\n",
              "      <td>2,698.00</td>\n",
              "      <td>32.00</td>\n",
              "    </tr>\n",
              "    <tr>\n",
              "      <th>2012-01-01 01:00:00</th>\n",
              "      <td>2,558.00</td>\n",
              "      <td>32.67</td>\n",
              "    </tr>\n",
              "    <tr>\n",
              "      <th>2012-01-01 02:00:00</th>\n",
              "      <td>2,444.00</td>\n",
              "      <td>30.00</td>\n",
              "    </tr>\n",
              "    <tr>\n",
              "      <th>2012-01-01 03:00:00</th>\n",
              "      <td>2,402.00</td>\n",
              "      <td>31.00</td>\n",
              "    </tr>\n",
              "    <tr>\n",
              "      <th>2012-01-01 04:00:00</th>\n",
              "      <td>2,403.00</td>\n",
              "      <td>32.00</td>\n",
              "    </tr>\n",
              "    <tr>\n",
              "      <th>2012-01-01 05:00:00</th>\n",
              "      <td>2,453.00</td>\n",
              "      <td>31.33</td>\n",
              "    </tr>\n",
              "    <tr>\n",
              "      <th>2012-01-01 06:00:00</th>\n",
              "      <td>2,560.00</td>\n",
              "      <td>30.00</td>\n",
              "    </tr>\n",
              "    <tr>\n",
              "      <th>2012-01-01 07:00:00</th>\n",
              "      <td>2,719.00</td>\n",
              "      <td>29.00</td>\n",
              "    </tr>\n",
              "    <tr>\n",
              "      <th>2012-01-01 08:00:00</th>\n",
              "      <td>2,916.00</td>\n",
              "      <td>29.00</td>\n",
              "    </tr>\n",
              "    <tr>\n",
              "      <th>2012-01-01 09:00:00</th>\n",
              "      <td>3,105.00</td>\n",
              "      <td>33.33</td>\n",
              "    </tr>\n",
              "  </tbody>\n",
              "</table>\n",
              "</div>"
            ],
            "text/plain": [
              "                        load  temp\n",
              "2012-01-01 00:00:00 2,698.00 32.00\n",
              "2012-01-01 01:00:00 2,558.00 32.67\n",
              "2012-01-01 02:00:00 2,444.00 30.00\n",
              "2012-01-01 03:00:00 2,402.00 31.00\n",
              "2012-01-01 04:00:00 2,403.00 32.00\n",
              "2012-01-01 05:00:00 2,453.00 31.33\n",
              "2012-01-01 06:00:00 2,560.00 30.00\n",
              "2012-01-01 07:00:00 2,719.00 29.00\n",
              "2012-01-01 08:00:00 2,916.00 29.00\n",
              "2012-01-01 09:00:00 3,105.00 33.33"
            ]
          },
          "metadata": {
            "tags": []
          },
          "execution_count": 5
        }
      ]
    },
    {
      "cell_type": "code",
      "metadata": {
        "id": "5qBu2oskpK5b",
        "colab": {
          "base_uri": "https://localhost:8080/"
        },
        "outputId": "748ec02e-c515-4ffd-aa3a-aad6172b439a"
      },
      "source": [
        "ts_data_load.index"
      ],
      "execution_count": null,
      "outputs": [
        {
          "output_type": "execute_result",
          "data": {
            "text/plain": [
              "DatetimeIndex(['2012-01-01 00:00:00', '2012-01-01 01:00:00',\n",
              "               '2012-01-01 02:00:00', '2012-01-01 03:00:00',\n",
              "               '2012-01-01 04:00:00', '2012-01-01 05:00:00',\n",
              "               '2012-01-01 06:00:00', '2012-01-01 07:00:00',\n",
              "               '2012-01-01 08:00:00', '2012-01-01 09:00:00',\n",
              "               ...\n",
              "               '2014-12-31 14:00:00', '2014-12-31 15:00:00',\n",
              "               '2014-12-31 16:00:00', '2014-12-31 17:00:00',\n",
              "               '2014-12-31 18:00:00', '2014-12-31 19:00:00',\n",
              "               '2014-12-31 20:00:00', '2014-12-31 21:00:00',\n",
              "               '2014-12-31 22:00:00', '2014-12-31 23:00:00'],\n",
              "              dtype='datetime64[ns]', length=26304, freq='H')"
            ]
          },
          "metadata": {
            "tags": []
          },
          "execution_count": 6
        }
      ]
    },
    {
      "cell_type": "code",
      "metadata": {
        "colab": {
          "base_uri": "https://localhost:8080/",
          "height": 204
        },
        "id": "PALe8ExDve51",
        "outputId": "c3c8cada-785b-40b2-a8e6-3a6b230f7a6f"
      },
      "source": [
        "ts_data_load['2012-1':'2012-2-28'].head()"
      ],
      "execution_count": null,
      "outputs": [
        {
          "output_type": "execute_result",
          "data": {
            "text/html": [
              "<div>\n",
              "<style scoped>\n",
              "    .dataframe tbody tr th:only-of-type {\n",
              "        vertical-align: middle;\n",
              "    }\n",
              "\n",
              "    .dataframe tbody tr th {\n",
              "        vertical-align: top;\n",
              "    }\n",
              "\n",
              "    .dataframe thead th {\n",
              "        text-align: right;\n",
              "    }\n",
              "</style>\n",
              "<table border=\"1\" class=\"dataframe\">\n",
              "  <thead>\n",
              "    <tr style=\"text-align: right;\">\n",
              "      <th></th>\n",
              "      <th>load</th>\n",
              "      <th>temp</th>\n",
              "    </tr>\n",
              "  </thead>\n",
              "  <tbody>\n",
              "    <tr>\n",
              "      <th>2012-01-01 00:00:00</th>\n",
              "      <td>2,698.00</td>\n",
              "      <td>32.00</td>\n",
              "    </tr>\n",
              "    <tr>\n",
              "      <th>2012-01-01 01:00:00</th>\n",
              "      <td>2,558.00</td>\n",
              "      <td>32.67</td>\n",
              "    </tr>\n",
              "    <tr>\n",
              "      <th>2012-01-01 02:00:00</th>\n",
              "      <td>2,444.00</td>\n",
              "      <td>30.00</td>\n",
              "    </tr>\n",
              "    <tr>\n",
              "      <th>2012-01-01 03:00:00</th>\n",
              "      <td>2,402.00</td>\n",
              "      <td>31.00</td>\n",
              "    </tr>\n",
              "    <tr>\n",
              "      <th>2012-01-01 04:00:00</th>\n",
              "      <td>2,403.00</td>\n",
              "      <td>32.00</td>\n",
              "    </tr>\n",
              "  </tbody>\n",
              "</table>\n",
              "</div>"
            ],
            "text/plain": [
              "                        load  temp\n",
              "2012-01-01 00:00:00 2,698.00 32.00\n",
              "2012-01-01 01:00:00 2,558.00 32.67\n",
              "2012-01-01 02:00:00 2,444.00 30.00\n",
              "2012-01-01 03:00:00 2,402.00 31.00\n",
              "2012-01-01 04:00:00 2,403.00 32.00"
            ]
          },
          "metadata": {
            "tags": []
          },
          "execution_count": 7
        }
      ]
    },
    {
      "cell_type": "code",
      "metadata": {
        "colab": {
          "base_uri": "https://localhost:8080/"
        },
        "id": "lxRMm6fjvefx",
        "outputId": "b0f50d4e-e9e2-44aa-f01b-6a83fb00b3df"
      },
      "source": [
        "# how many null values\n",
        "ts_data_load.isna().sum()"
      ],
      "execution_count": null,
      "outputs": [
        {
          "output_type": "execute_result",
          "data": {
            "text/plain": [
              "load    0\n",
              "temp    0\n",
              "dtype: int64"
            ]
          },
          "metadata": {
            "tags": []
          },
          "execution_count": 8
        }
      ]
    },
    {
      "cell_type": "code",
      "metadata": {
        "colab": {
          "base_uri": "https://localhost:8080/"
        },
        "id": "FXON-0jOveWa",
        "outputId": "8d5ca773-f094-4884-9148-8933ca93e3d0"
      },
      "source": [
        "# data types\n",
        "ts_data_load.dtypes"
      ],
      "execution_count": null,
      "outputs": [
        {
          "output_type": "execute_result",
          "data": {
            "text/plain": [
              "load    float64\n",
              "temp    float64\n",
              "dtype: object"
            ]
          },
          "metadata": {
            "tags": []
          },
          "execution_count": 9
        }
      ]
    },
    {
      "cell_type": "code",
      "metadata": {
        "colab": {
          "base_uri": "https://localhost:8080/",
          "height": 297
        },
        "id": "XSM3D-hDvePS",
        "outputId": "86d3b3e0-68bb-4369-eaa2-4ee925dc0d83"
      },
      "source": [
        "# summary statistics\n",
        "ts_data_load.describe()"
      ],
      "execution_count": null,
      "outputs": [
        {
          "output_type": "execute_result",
          "data": {
            "text/html": [
              "<div>\n",
              "<style scoped>\n",
              "    .dataframe tbody tr th:only-of-type {\n",
              "        vertical-align: middle;\n",
              "    }\n",
              "\n",
              "    .dataframe tbody tr th {\n",
              "        vertical-align: top;\n",
              "    }\n",
              "\n",
              "    .dataframe thead th {\n",
              "        text-align: right;\n",
              "    }\n",
              "</style>\n",
              "<table border=\"1\" class=\"dataframe\">\n",
              "  <thead>\n",
              "    <tr style=\"text-align: right;\">\n",
              "      <th></th>\n",
              "      <th>load</th>\n",
              "      <th>temp</th>\n",
              "    </tr>\n",
              "  </thead>\n",
              "  <tbody>\n",
              "    <tr>\n",
              "      <th>count</th>\n",
              "      <td>26,304.00</td>\n",
              "      <td>26,304.00</td>\n",
              "    </tr>\n",
              "    <tr>\n",
              "      <th>mean</th>\n",
              "      <td>3,303.77</td>\n",
              "      <td>47.77</td>\n",
              "    </tr>\n",
              "    <tr>\n",
              "      <th>std</th>\n",
              "      <td>564.58</td>\n",
              "      <td>19.34</td>\n",
              "    </tr>\n",
              "    <tr>\n",
              "      <th>min</th>\n",
              "      <td>1,979.00</td>\n",
              "      <td>-13.67</td>\n",
              "    </tr>\n",
              "    <tr>\n",
              "      <th>25%</th>\n",
              "      <td>2,867.00</td>\n",
              "      <td>32.67</td>\n",
              "    </tr>\n",
              "    <tr>\n",
              "      <th>50%</th>\n",
              "      <td>3,364.00</td>\n",
              "      <td>48.33</td>\n",
              "    </tr>\n",
              "    <tr>\n",
              "      <th>75%</th>\n",
              "      <td>3,690.00</td>\n",
              "      <td>63.67</td>\n",
              "    </tr>\n",
              "    <tr>\n",
              "      <th>max</th>\n",
              "      <td>5,224.00</td>\n",
              "      <td>95.00</td>\n",
              "    </tr>\n",
              "  </tbody>\n",
              "</table>\n",
              "</div>"
            ],
            "text/plain": [
              "           load      temp\n",
              "count 26,304.00 26,304.00\n",
              "mean   3,303.77     47.77\n",
              "std      564.58     19.34\n",
              "min    1,979.00    -13.67\n",
              "25%    2,867.00     32.67\n",
              "50%    3,364.00     48.33\n",
              "75%    3,690.00     63.67\n",
              "max    5,224.00     95.00"
            ]
          },
          "metadata": {
            "tags": []
          },
          "execution_count": 10
        }
      ]
    },
    {
      "cell_type": "code",
      "metadata": {
        "colab": {
          "base_uri": "https://localhost:8080/",
          "height": 298
        },
        "id": "8N-nqRY1veKe",
        "outputId": "82745d9b-fe36-4e0b-b4a9-aeadba9fcc24"
      },
      "source": [
        "load = ts_data_load.load\n",
        "decomposition = sm.tsa.seasonal_decompose(load['2012-07-01':'2012-12-31'], model = 'additive')\n",
        "fig = decomposition.plot()\n",
        "plt.rcParams['figure.figsize'] = [18.0, 9.0]"
      ],
      "execution_count": null,
      "outputs": [
        {
          "output_type": "display_data",
          "data": {
            "image/png": "[encoded data removed]",
            "text/plain": [
              "<Figure size 432x288 with 4 Axes>"
            ]
          },
          "metadata": {
            "tags": [],
            "needs_background": "light"
          }
        }
      ]
    },
    {
      "cell_type": "code",
      "metadata": {
        "colab": {
          "base_uri": "https://localhost:8080/",
          "height": 554
        },
        "id": "mEXuOF8RveB4",
        "outputId": "151f96c2-d781-4c66-f4b1-c5aa7e2d5313"
      },
      "source": [
        "# time series load value and trend decomposition plot\n",
        "decomposition = sm.tsa.seasonal_decompose(load, model = 'additive')\n",
        "fig, ax = plt.subplots()\n",
        "ax.grid(True)\n",
        "\n",
        "year = mdates.YearLocator(month=1)\n",
        "month = mdates.MonthLocator(interval=1)\n",
        "year_format = mdates.DateFormatter('%Y')\n",
        "month_format = mdates.DateFormatter('%m')\n",
        "\n",
        "ax.xaxis.set_minor_locator(month)\n",
        "ax.xaxis.grid(True, which = 'minor')\n",
        "ax.xaxis.set_major_locator(year)\n",
        "ax.xaxis.set_major_formatter(year_format)\n",
        "\n",
        "plt.plot(load.index, load, c='black')\n",
        "plt.plot(decomposition.trend.index, decomposition.trend, c='red')"
      ],
      "execution_count": null,
      "outputs": [
        {
          "output_type": "execute_result",
          "data": {
            "text/plain": [
              "[<matplotlib.lines.Line2D at 0x7f0e4a138110>]"
            ]
          },
          "metadata": {
            "tags": []
          },
          "execution_count": 12
        },
        {
          "output_type": "display_data",
          "data": {
            "image/png": "[encoded data removed]",
            "text/plain": [
              "<Figure size 1296x648 with 1 Axes>"
            ]
          },
          "metadata": {
            "tags": [],
            "needs_background": "light"
          }
        }
      ]
    },
    {
      "cell_type": "code",
      "metadata": {
        "colab": {
          "base_uri": "https://localhost:8080/"
        },
        "id": "unEcGxtDvd7f",
        "outputId": "90871caf-647f-4e94-e5f3-994879adb069"
      },
      "source": [
        "values = load.values\n",
        "values = values.reshape((len(values), 1))\n",
        "\n",
        "# train the standardization\n",
        "scaler = StandardScaler()\n",
        "scaler = scaler.fit(values)\n",
        "print('Mean: %f, StandardDeviation: %f' % (scaler.mean_, sqrt(scaler.var_)))"
      ],
      "execution_count": null,
      "outputs": [
        {
          "output_type": "stream",
          "text": [
            "Mean: 3303.769199, StandardDeviation: 564.568521\n"
          ],
          "name": "stdout"
        }
      ]
    },
    {
      "cell_type": "code",
      "metadata": {
        "colab": {
          "base_uri": "https://localhost:8080/",
          "height": 204
        },
        "id": "5sBX2jIXvdqW",
        "outputId": "541d83ed-783e-4a04-9c33-6e6cde30ca43"
      },
      "source": [
        "# datetime features\n",
        "ts_data_load['hour'] = [ts_data_load.index[i].hour for i in range(len(ts_data_load))]\n",
        "ts_data_load['month'] = [ts_data_load.index[i].month for i in range(len(ts_data_load))]\n",
        "ts_data_load['dayofweek'] = [ts_data_load.index[i].day for i in range(len(ts_data_load))]\n",
        "ts_data_load.head()"
      ],
      "execution_count": null,
      "outputs": [
        {
          "output_type": "execute_result",
          "data": {
            "text/html": [
              "<div>\n",
              "<style scoped>\n",
              "    .dataframe tbody tr th:only-of-type {\n",
              "        vertical-align: middle;\n",
              "    }\n",
              "\n",
              "    .dataframe tbody tr th {\n",
              "        vertical-align: top;\n",
              "    }\n",
              "\n",
              "    .dataframe thead th {\n",
              "        text-align: right;\n",
              "    }\n",
              "</style>\n",
              "<table border=\"1\" class=\"dataframe\">\n",
              "  <thead>\n",
              "    <tr style=\"text-align: right;\">\n",
              "      <th></th>\n",
              "      <th>load</th>\n",
              "      <th>temp</th>\n",
              "      <th>hour</th>\n",
              "      <th>month</th>\n",
              "      <th>dayofweek</th>\n",
              "    </tr>\n",
              "  </thead>\n",
              "  <tbody>\n",
              "    <tr>\n",
              "      <th>2012-01-01 00:00:00</th>\n",
              "      <td>2,698.00</td>\n",
              "      <td>32.00</td>\n",
              "      <td>0</td>\n",
              "      <td>1</td>\n",
              "      <td>1</td>\n",
              "    </tr>\n",
              "    <tr>\n",
              "      <th>2012-01-01 01:00:00</th>\n",
              "      <td>2,558.00</td>\n",
              "      <td>32.67</td>\n",
              "      <td>1</td>\n",
              "      <td>1</td>\n",
              "      <td>1</td>\n",
              "    </tr>\n",
              "    <tr>\n",
              "      <th>2012-01-01 02:00:00</th>\n",
              "      <td>2,444.00</td>\n",
              "      <td>30.00</td>\n",
              "      <td>2</td>\n",
              "      <td>1</td>\n",
              "      <td>1</td>\n",
              "    </tr>\n",
              "    <tr>\n",
              "      <th>2012-01-01 03:00:00</th>\n",
              "      <td>2,402.00</td>\n",
              "      <td>31.00</td>\n",
              "      <td>3</td>\n",
              "      <td>1</td>\n",
              "      <td>1</td>\n",
              "    </tr>\n",
              "    <tr>\n",
              "      <th>2012-01-01 04:00:00</th>\n",
              "      <td>2,403.00</td>\n",
              "      <td>32.00</td>\n",
              "      <td>4</td>\n",
              "      <td>1</td>\n",
              "      <td>1</td>\n",
              "    </tr>\n",
              "  </tbody>\n",
              "</table>\n",
              "</div>"
            ],
            "text/plain": [
              "                        load  temp  hour  month  dayofweek\n",
              "2012-01-01 00:00:00 2,698.00 32.00     0      1          1\n",
              "2012-01-01 01:00:00 2,558.00 32.67     1      1          1\n",
              "2012-01-01 02:00:00 2,444.00 30.00     2      1          1\n",
              "2012-01-01 03:00:00 2,402.00 31.00     3      1          1\n",
              "2012-01-01 04:00:00 2,403.00 32.00     4      1          1"
            ]
          },
          "metadata": {
            "tags": []
          },
          "execution_count": 14
        }
      ]
    },
    {
      "cell_type": "code",
      "metadata": {
        "colab": {
          "base_uri": "https://localhost:8080/",
          "height": 394
        },
        "id": "INcOrIUFFWSh",
        "outputId": "cb426daa-ff79-4717-8739-3e878e465004"
      },
      "source": [
        "# create lag features\n",
        "def generated_lagged_features(ts_data, var, max_lag):\n",
        "  for t in range(1, max_lag+1):\n",
        "    ts_data[var+'_lag'+str(t)] = ts_data[var].shift(t, freq='1H')\n",
        "\n",
        "\n",
        "generated_lagged_features(ts_data_load, 'load', 8)\n",
        "generated_lagged_features(ts_data_load, 'temp', 8)\n",
        "ts_data_load.head()"
      ],
      "execution_count": null,
      "outputs": [
        {
          "output_type": "execute_result",
          "data": {
            "text/html": [
              "<div>\n",
              "<style scoped>\n",
              "    .dataframe tbody tr th:only-of-type {\n",
              "        vertical-align: middle;\n",
              "    }\n",
              "\n",
              "    .dataframe tbody tr th {\n",
              "        vertical-align: top;\n",
              "    }\n",
              "\n",
              "    .dataframe thead th {\n",
              "        text-align: right;\n",
              "    }\n",
              "</style>\n",
              "<table border=\"1\" class=\"dataframe\">\n",
              "  <thead>\n",
              "    <tr style=\"text-align: right;\">\n",
              "      <th></th>\n",
              "      <th>load</th>\n",
              "      <th>temp</th>\n",
              "      <th>hour</th>\n",
              "      <th>month</th>\n",
              "      <th>dayofweek</th>\n",
              "      <th>load_lag1</th>\n",
              "      <th>load_lag2</th>\n",
              "      <th>load_lag3</th>\n",
              "      <th>load_lag4</th>\n",
              "      <th>load_lag5</th>\n",
              "      <th>load_lag6</th>\n",
              "      <th>load_lag7</th>\n",
              "      <th>load_lag8</th>\n",
              "      <th>temp_lag1</th>\n",
              "      <th>temp_lag2</th>\n",
              "      <th>temp_lag3</th>\n",
              "      <th>temp_lag4</th>\n",
              "      <th>temp_lag5</th>\n",
              "      <th>temp_lag6</th>\n",
              "      <th>temp_lag7</th>\n",
              "      <th>temp_lag8</th>\n",
              "    </tr>\n",
              "  </thead>\n",
              "  <tbody>\n",
              "    <tr>\n",
              "      <th>2012-01-01 00:00:00</th>\n",
              "      <td>2,698.00</td>\n",
              "      <td>32.00</td>\n",
              "      <td>0</td>\n",
              "      <td>1</td>\n",
              "      <td>1</td>\n",
              "      <td>nan</td>\n",
              "      <td>nan</td>\n",
              "      <td>nan</td>\n",
              "      <td>nan</td>\n",
              "      <td>nan</td>\n",
              "      <td>nan</td>\n",
              "      <td>nan</td>\n",
              "      <td>nan</td>\n",
              "      <td>nan</td>\n",
              "      <td>nan</td>\n",
              "      <td>nan</td>\n",
              "      <td>nan</td>\n",
              "      <td>nan</td>\n",
              "      <td>nan</td>\n",
              "      <td>nan</td>\n",
              "      <td>nan</td>\n",
              "    </tr>\n",
              "    <tr>\n",
              "      <th>2012-01-01 01:00:00</th>\n",
              "      <td>2,558.00</td>\n",
              "      <td>32.67</td>\n",
              "      <td>1</td>\n",
              "      <td>1</td>\n",
              "      <td>1</td>\n",
              "      <td>2,698.00</td>\n",
              "      <td>nan</td>\n",
              "      <td>nan</td>\n",
              "      <td>nan</td>\n",
              "      <td>nan</td>\n",
              "      <td>nan</td>\n",
              "      <td>nan</td>\n",
              "      <td>nan</td>\n",
              "      <td>32.00</td>\n",
              "      <td>nan</td>\n",
              "      <td>nan</td>\n",
              "      <td>nan</td>\n",
              "      <td>nan</td>\n",
              "      <td>nan</td>\n",
              "      <td>nan</td>\n",
              "      <td>nan</td>\n",
              "    </tr>\n",
              "    <tr>\n",
              "      <th>2012-01-01 02:00:00</th>\n",
              "      <td>2,444.00</td>\n",
              "      <td>30.00</td>\n",
              "      <td>2</td>\n",
              "      <td>1</td>\n",
              "      <td>1</td>\n",
              "      <td>2,558.00</td>\n",
              "      <td>2,698.00</td>\n",
              "      <td>nan</td>\n",
              "      <td>nan</td>\n",
              "      <td>nan</td>\n",
              "      <td>nan</td>\n",
              "      <td>nan</td>\n",
              "      <td>nan</td>\n",
              "      <td>32.67</td>\n",
              "      <td>32.00</td>\n",
              "      <td>nan</td>\n",
              "      <td>nan</td>\n",
              "      <td>nan</td>\n",
              "      <td>nan</td>\n",
              "      <td>nan</td>\n",
              "      <td>nan</td>\n",
              "    </tr>\n",
              "    <tr>\n",
              "      <th>2012-01-01 03:00:00</th>\n",
              "      <td>2,402.00</td>\n",
              "      <td>31.00</td>\n",
              "      <td>3</td>\n",
              "      <td>1</td>\n",
              "      <td>1</td>\n",
              "      <td>2,444.00</td>\n",
              "      <td>2,558.00</td>\n",
              "      <td>2,698.00</td>\n",
              "      <td>nan</td>\n",
              "      <td>nan</td>\n",
              "      <td>nan</td>\n",
              "      <td>nan</td>\n",
              "      <td>nan</td>\n",
              "      <td>30.00</td>\n",
              "      <td>32.67</td>\n",
              "      <td>32.00</td>\n",
              "      <td>nan</td>\n",
              "      <td>nan</td>\n",
              "      <td>nan</td>\n",
              "      <td>nan</td>\n",
              "      <td>nan</td>\n",
              "    </tr>\n",
              "    <tr>\n",
              "      <th>2012-01-01 04:00:00</th>\n",
              "      <td>2,403.00</td>\n",
              "      <td>32.00</td>\n",
              "      <td>4</td>\n",
              "      <td>1</td>\n",
              "      <td>1</td>\n",
              "      <td>2,402.00</td>\n",
              "      <td>2,444.00</td>\n",
              "      <td>2,558.00</td>\n",
              "      <td>2,698.00</td>\n",
              "      <td>nan</td>\n",
              "      <td>nan</td>\n",
              "      <td>nan</td>\n",
              "      <td>nan</td>\n",
              "      <td>31.00</td>\n",
              "      <td>30.00</td>\n",
              "      <td>32.67</td>\n",
              "      <td>32.00</td>\n",
              "      <td>nan</td>\n",
              "      <td>nan</td>\n",
              "      <td>nan</td>\n",
              "      <td>nan</td>\n",
              "    </tr>\n",
              "  </tbody>\n",
              "</table>\n",
              "</div>"
            ],
            "text/plain": [
              "                        load  temp  hour  ...  temp_lag6  temp_lag7  temp_lag8\n",
              "2012-01-01 00:00:00 2,698.00 32.00     0  ...        nan        nan        nan\n",
              "2012-01-01 01:00:00 2,558.00 32.67     1  ...        nan        nan        nan\n",
              "2012-01-01 02:00:00 2,444.00 30.00     2  ...        nan        nan        nan\n",
              "2012-01-01 03:00:00 2,402.00 31.00     3  ...        nan        nan        nan\n",
              "2012-01-01 04:00:00 2,403.00 32.00     4  ...        nan        nan        nan\n",
              "\n",
              "[5 rows x 21 columns]"
            ]
          },
          "metadata": {
            "tags": []
          },
          "execution_count": 15
        }
      ]
    },
    {
      "cell_type": "code",
      "metadata": {
        "id": "Tfvar0JeFWL_"
      },
      "source": [
        ""
      ],
      "execution_count": null,
      "outputs": []
    },
    {
      "cell_type": "code",
      "metadata": {
        "id": "L16Aqv-cFWEP"
      },
      "source": [
        ""
      ],
      "execution_count": null,
      "outputs": []
    },
    {
      "cell_type": "code",
      "metadata": {
        "id": "Ay976pTkFV-A"
      },
      "source": [
        ""
      ],
      "execution_count": null,
      "outputs": []
    },
    {
      "cell_type": "code",
      "metadata": {
        "id": "Y94yx_HxFV2k"
      },
      "source": [
        ""
      ],
      "execution_count": null,
      "outputs": []
    },
    {
      "cell_type": "code",
      "metadata": {
        "id": "4ckk76a6FVx-"
      },
      "source": [
        ""
      ],
      "execution_count": null,
      "outputs": []
    },
    {
      "cell_type": "code",
      "metadata": {
        "id": "1YUTEJrFFVo6"
      },
      "source": [
        ""
      ],
      "execution_count": null,
      "outputs": []
    },
    {
      "cell_type": "code",
      "metadata": {
        "id": "94TUX5rXFVjF"
      },
      "source": [
        ""
      ],
      "execution_count": null,
      "outputs": []
    },
    {
      "cell_type": "code",
      "metadata": {
        "id": "sYKLevMo6mbg"
      },
      "source": [
        ""
      ],
      "execution_count": null,
      "outputs": []
    }
  ]
}